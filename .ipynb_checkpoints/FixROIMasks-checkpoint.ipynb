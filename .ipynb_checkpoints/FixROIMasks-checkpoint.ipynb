{
 "cells": [
  {
   "cell_type": "markdown",
   "id": "5379b623-0487-4344-be94-01fbff749fae",
   "metadata": {},
   "source": [
    "# Fix ROI Masks\n",
    "For participants 2 and 3, there appear to be broken ROI masks for the left and right LOC."
   ]
  },
  {
   "cell_type": "code",
   "execution_count": 1,
   "id": "30a24161-79c6-4d50-87a1-f07eacc95065",
   "metadata": {},
   "outputs": [],
   "source": [
    "from pathlib import Path\n",
    "import numpy as np\n",
    "import re\n",
    "from tqdm.auto import tqdm\n",
    "from nilearn import image\n",
    "from nilearn import masking\n",
    "from nilearn import plotting\n",
    "import nibabel as nib"
   ]
  },
  {
   "cell_type": "code",
   "execution_count": 2,
   "id": "3a7247d6-3cf8-49dd-8208-614d6d5c8fe3",
   "metadata": {},
   "outputs": [],
   "source": [
    "dataset_v1 = Path('/s/babbage/b/nobackup/nblancha/public-datasets/bold5000')\n",
    "dataset_v2 = Path('/s/babbage/b/nobackup/nblancha/public-datasets/bold5000r2')"
   ]
  },
  {
   "cell_type": "markdown",
   "id": "a7585aaa-cf55-49e0-8799-c4c7da07431f",
   "metadata": {},
   "source": [
    "## Investigations"
   ]
  },
  {
   "cell_type": "code",
   "execution_count": 6,
   "id": "b984956e-8dd0-46a3-ba5c-748d84f4f944",
   "metadata": {},
   "outputs": [],
   "source": [
    "csi2_anat = image.load_img(str(dataset_v1 / 'BOLD5000_Structural/CSI2_Structural/T1w_MPRAGE_CSI2.nii'))\n",
    "csi2_LHLO = image.load_img(str(dataset_v1 / 'derivatives/spm/sub-CSI2/sub-CSI2_mask-LHLO.nii.gz'))"
   ]
  },
  {
   "cell_type": "code",
   "execution_count": 7,
   "id": "3ba81964-36fa-4320-8044-97ff1b55e2d8",
   "metadata": {},
   "outputs": [],
   "source": [
    "csi2_anat = nib.load(dataset_v1 / 'BOLD5000_Structural/CSI2_Structural/T1w_MPRAGE_CSI2.nii')\n",
    "csi2_LHLO = nib.load(dataset_v1 / 'derivatives/spm/sub-CSI2/sub-CSI2_mask-LHLO.nii.gz')\n",
    "csi2_brainmask = nib.load(dataset_v2 / 'CSI2_brainmask.nii.gz')"
   ]
  },
  {
   "cell_type": "code",
   "execution_count": 8,
   "id": "ad2efc73-ac2e-4371-ba02-f459db38f982",
   "metadata": {},
   "outputs": [
    {
     "data": {
      "text/plain": [
       "(72, 92, 70)"
      ]
     },
     "execution_count": 8,
     "metadata": {},
     "output_type": "execute_result"
    }
   ],
   "source": [
    "csi2_LHLO.shape"
   ]
  },
  {
   "cell_type": "code",
   "execution_count": 9,
   "id": "5da19b82-895b-4b01-bc4e-3457e9132f91",
   "metadata": {},
   "outputs": [
    {
     "data": {
      "text/plain": [
       "array([[   2. ,    0. ,    0. ,  -66.5],\n",
       "       [   0. ,    2. ,    0. , -109. ],\n",
       "       [   0. ,    0. ,    2. ,  -48. ],\n",
       "       [   0. ,    0. ,    0. ,    1. ]])"
      ]
     },
     "execution_count": 9,
     "metadata": {},
     "output_type": "execute_result"
    }
   ],
   "source": [
    "csi2_LHLO.affine"
   ]
  },
  {
   "cell_type": "code",
   "execution_count": 10,
   "id": "2cfc2909-096c-49b1-b958-166aca6a21b9",
   "metadata": {},
   "outputs": [
    {
     "data": {
      "text/plain": [
       "(72, 92, 70)"
      ]
     },
     "execution_count": 10,
     "metadata": {},
     "output_type": "execute_result"
    }
   ],
   "source": [
    "csi2_brainmask.shape"
   ]
  },
  {
   "cell_type": "code",
   "execution_count": 14,
   "id": "239d5c02-92ee-40c1-8877-be10f9051203",
   "metadata": {},
   "outputs": [
    {
     "data": {
      "text/plain": [
       "array([[   2. ,    0. ,    0. ,  -66.5],\n",
       "       [   0. ,    2. ,    0. , -109. ],\n",
       "       [   0. ,    0. ,    2. ,  -48. ],\n",
       "       [   0. ,    0. ,    0. ,    1. ]])"
      ]
     },
     "execution_count": 14,
     "metadata": {},
     "output_type": "execute_result"
    }
   ],
   "source": [
    "csi2_brainmask.affine"
   ]
  },
  {
   "cell_type": "code",
   "execution_count": 11,
   "id": "05da7603-c843-426b-ac6f-9fec107cfc35",
   "metadata": {},
   "outputs": [
    {
     "data": {
      "text/plain": [
       "(176, 256, 256)"
      ]
     },
     "execution_count": 11,
     "metadata": {},
     "output_type": "execute_result"
    }
   ],
   "source": [
    "csi2_anat.shape"
   ]
  },
  {
   "cell_type": "code",
   "execution_count": 12,
   "id": "1014f5d4-ed58-44b3-a59e-26378e4e51cb",
   "metadata": {},
   "outputs": [
    {
     "data": {
      "text/plain": [
       "array([[   1. ,    0. ,    0. ,  -82.5],\n",
       "       [   0. ,    1. ,    0. , -135. ],\n",
       "       [   0. ,    0. ,    1. , -132. ],\n",
       "       [   0. ,    0. ,    0. ,    1. ]])"
      ]
     },
     "execution_count": 12,
     "metadata": {},
     "output_type": "execute_result"
    }
   ],
   "source": [
    "csi2_anat.affine"
   ]
  },
  {
   "cell_type": "code",
   "execution_count": 13,
   "id": "cb139420-eddd-48c1-a948-4d658462a349",
   "metadata": {},
   "outputs": [],
   "source": [
    "csi2 = nib.load(dataset_v2 / f'CSI2_GLMbetas-TYPED-FITHRF-GLMDENOISE-RR-ZSCORE-ALL.nii.gz')"
   ]
  },
  {
   "cell_type": "code",
   "execution_count": 14,
   "id": "fcc17678-55eb-4bb1-af04-510b8dc51d21",
   "metadata": {},
   "outputs": [
    {
     "data": {
      "text/plain": [
       "(72, 92, 70, 5254)"
      ]
     },
     "execution_count": 14,
     "metadata": {},
     "output_type": "execute_result"
    }
   ],
   "source": [
    "csi2.shape"
   ]
  },
  {
   "cell_type": "code",
   "execution_count": 15,
   "id": "2480440f-a47b-4cc8-969b-33820bf3e417",
   "metadata": {},
   "outputs": [
    {
     "data": {
      "text/plain": [
       "array([[   2. ,    0. ,    0. ,  -66.5],\n",
       "       [   0. ,    2. ,    0. , -109. ],\n",
       "       [   0. ,    0. ,    2. ,  -48. ],\n",
       "       [   0. ,    0. ,    0. ,    1. ]])"
      ]
     },
     "execution_count": 15,
     "metadata": {},
     "output_type": "execute_result"
    }
   ],
   "source": [
    "csi2.affine"
   ]
  },
  {
   "cell_type": "code",
   "execution_count": 18,
   "id": "ac895636-1b35-493e-9697-a6814693c1a4",
   "metadata": {},
   "outputs": [
    {
     "data": {
      "text/plain": [
       "array([[   2. ,    0. ,    0. ,  -66.5],\n",
       "       [   0. ,    2. ,    0. , -109. ],\n",
       "       [   0. ,    0. ,    2. ,  -48. ],\n",
       "       [   0. ,    0. ,    0. ,    1. ]])"
      ]
     },
     "execution_count": 18,
     "metadata": {},
     "output_type": "execute_result"
    }
   ],
   "source": [
    "csi2.get_qform()"
   ]
  },
  {
   "cell_type": "code",
   "execution_count": 19,
   "id": "ac60aead-1a1e-41fd-97c1-7c991dc47d91",
   "metadata": {},
   "outputs": [],
   "source": [
    "data = csi2.get_fdata()"
   ]
  },
  {
   "cell_type": "code",
   "execution_count": 20,
   "id": "d22e0bcc-91d2-4136-a8cc-cedb653d8079",
   "metadata": {},
   "outputs": [
    {
     "data": {
      "text/plain": [
       "(72, 92, 70, 5254)"
      ]
     },
     "execution_count": 20,
     "metadata": {},
     "output_type": "execute_result"
    }
   ],
   "source": [
    "data.shape"
   ]
  },
  {
   "cell_type": "code",
   "execution_count": 21,
   "id": "23fa42b2-7a86-4f48-93cf-e58e6fd57e68",
   "metadata": {},
   "outputs": [],
   "source": [
    "mask = csi2_LHLO.get_fdata()"
   ]
  },
  {
   "cell_type": "code",
   "execution_count": 22,
   "id": "d3800b8b-c57d-4cc4-9ba3-47f0f97dcd7b",
   "metadata": {},
   "outputs": [
    {
     "data": {
      "text/plain": [
       "(72, 92, 70)"
      ]
     },
     "execution_count": 22,
     "metadata": {},
     "output_type": "execute_result"
    }
   ],
   "source": [
    "mask.shape"
   ]
  },
  {
   "cell_type": "code",
   "execution_count": 25,
   "id": "facf187f-ab96-4f30-a50f-d90a839938e7",
   "metadata": {},
   "outputs": [],
   "source": [
    "roi = data[mask != 0]"
   ]
  },
  {
   "cell_type": "code",
   "execution_count": 27,
   "id": "c89ba667-8bbc-4c46-9549-42d05d963a83",
   "metadata": {},
   "outputs": [
    {
     "data": {
      "text/plain": [
       "(327, 5254)"
      ]
     },
     "execution_count": 27,
     "metadata": {},
     "output_type": "execute_result"
    }
   ],
   "source": [
    "roi.shape"
   ]
  },
  {
   "cell_type": "code",
   "execution_count": 29,
   "id": "174a505f-1c18-48e7-94c6-c51f9d8bfd15",
   "metadata": {},
   "outputs": [
    {
     "data": {
      "text/plain": [
       "327"
      ]
     },
     "execution_count": 29,
     "metadata": {},
     "output_type": "execute_result"
    }
   ],
   "source": [
    "len(roi.tolist())"
   ]
  },
  {
   "cell_type": "markdown",
   "id": "8fa01a84-d5e3-4d99-968d-bf7be6ee685a",
   "metadata": {
    "tags": []
   },
   "source": [
    "## Fix all \"LO\" files to \"LOC\""
   ]
  },
  {
   "cell_type": "code",
   "execution_count": 4,
   "id": "17084159-2b87-4cf3-a9ff-c2e1f9ee5229",
   "metadata": {},
   "outputs": [
    {
     "data": {
      "text/plain": [
       "[PosixPath('/s/babbage/b/nobackup/nblancha/public-datasets/bold5000/derivatives/spm/sub-CSI2/sub-CSI2_mask-LHLO.nii.gz'),\n",
       " PosixPath('/s/babbage/b/nobackup/nblancha/public-datasets/bold5000/derivatives/spm/sub-CSI2/sub-CSI2_mask-RHLO.nii.gz'),\n",
       " PosixPath('/s/babbage/b/nobackup/nblancha/public-datasets/bold5000/derivatives/spm/sub-CSI3/sub-CSI3_mask-LHLO.nii.gz'),\n",
       " PosixPath('/s/babbage/b/nobackup/nblancha/public-datasets/bold5000/derivatives/spm/sub-CSI3/sub-CSI3_mask-RHLO.nii.gz')]"
      ]
     },
     "execution_count": 4,
     "metadata": {},
     "output_type": "execute_result"
    }
   ],
   "source": [
    "masks = sorted(list(dataset_v1.glob(f'**/sub-CSI*_mask-*LO.nii.gz')))\n",
    "masks"
   ]
  },
  {
   "cell_type": "code",
   "execution_count": 6,
   "id": "8382f34e-b34a-470c-ad12-c4669b54b4b8",
   "metadata": {},
   "outputs": [
    {
     "data": {
      "application/vnd.jupyter.widget-view+json": {
       "model_id": "780f9ebd33d64ffebc066a1067c691af",
       "version_major": 2,
       "version_minor": 0
      },
      "text/plain": [
       "  0%|          | 0/4 [00:00<?, ?it/s]"
      ]
     },
     "metadata": {},
     "output_type": "display_data"
    }
   ],
   "source": [
    "for mask in tqdm(masks):\n",
    "    img = nib.load(mask)\n",
    "    data = img.get_fdata()\n",
    "    data[data != 0] = 1\n",
    "    fixed_img = nib.nifti1.Nifti1Image(data, img.affine)\n",
    "    fixed_filename = re.sub(r'HLO\\.', 'HLOC.', str(mask))\n",
    "    nib.save(fixed_img,fixed_filename)\n",
    "    mask.rename(mask.with_suffix('.bak'))"
   ]
  },
  {
   "cell_type": "markdown",
   "id": "0171265d-a259-40bf-9be1-4f0d51a7f967",
   "metadata": {},
   "source": [
    "## Fix non-integer masks"
   ]
  },
  {
   "cell_type": "code",
   "execution_count": 7,
   "id": "058e5047-f973-45e0-bcf8-299ed6d3ae1d",
   "metadata": {},
   "outputs": [
    {
     "data": {
      "text/plain": [
       "[PosixPath('/s/babbage/b/nobackup/nblancha/public-datasets/bold5000/derivatives/spm/sub-CSI1/sub-CSI1_mask-LHEarlyVis.nii.gz'),\n",
       " PosixPath('/s/babbage/b/nobackup/nblancha/public-datasets/bold5000/derivatives/spm/sub-CSI1/sub-CSI1_mask-LHLOC.nii.gz'),\n",
       " PosixPath('/s/babbage/b/nobackup/nblancha/public-datasets/bold5000/derivatives/spm/sub-CSI1/sub-CSI1_mask-LHOPA.nii.gz'),\n",
       " PosixPath('/s/babbage/b/nobackup/nblancha/public-datasets/bold5000/derivatives/spm/sub-CSI1/sub-CSI1_mask-LHPPA.nii.gz'),\n",
       " PosixPath('/s/babbage/b/nobackup/nblancha/public-datasets/bold5000/derivatives/spm/sub-CSI1/sub-CSI1_mask-LHRSC.nii.gz'),\n",
       " PosixPath('/s/babbage/b/nobackup/nblancha/public-datasets/bold5000/derivatives/spm/sub-CSI1/sub-CSI1_mask-RHEarlyVis.nii.gz'),\n",
       " PosixPath('/s/babbage/b/nobackup/nblancha/public-datasets/bold5000/derivatives/spm/sub-CSI1/sub-CSI1_mask-RHLOC.nii.gz'),\n",
       " PosixPath('/s/babbage/b/nobackup/nblancha/public-datasets/bold5000/derivatives/spm/sub-CSI1/sub-CSI1_mask-RHOPA.nii.gz'),\n",
       " PosixPath('/s/babbage/b/nobackup/nblancha/public-datasets/bold5000/derivatives/spm/sub-CSI1/sub-CSI1_mask-RHPPA.nii.gz'),\n",
       " PosixPath('/s/babbage/b/nobackup/nblancha/public-datasets/bold5000/derivatives/spm/sub-CSI1/sub-CSI1_mask-RHRSC.nii.gz'),\n",
       " PosixPath('/s/babbage/b/nobackup/nblancha/public-datasets/bold5000/derivatives/spm/sub-CSI2/sub-CSI2_mask-LHEarlyVis.nii.gz'),\n",
       " PosixPath('/s/babbage/b/nobackup/nblancha/public-datasets/bold5000/derivatives/spm/sub-CSI2/sub-CSI2_mask-LHLOC.nii.gz'),\n",
       " PosixPath('/s/babbage/b/nobackup/nblancha/public-datasets/bold5000/derivatives/spm/sub-CSI2/sub-CSI2_mask-LHOPA.nii.gz'),\n",
       " PosixPath('/s/babbage/b/nobackup/nblancha/public-datasets/bold5000/derivatives/spm/sub-CSI2/sub-CSI2_mask-LHPPA.nii.gz'),\n",
       " PosixPath('/s/babbage/b/nobackup/nblancha/public-datasets/bold5000/derivatives/spm/sub-CSI2/sub-CSI2_mask-LHRSC.nii.gz'),\n",
       " PosixPath('/s/babbage/b/nobackup/nblancha/public-datasets/bold5000/derivatives/spm/sub-CSI2/sub-CSI2_mask-RHEarlyVis.nii.gz'),\n",
       " PosixPath('/s/babbage/b/nobackup/nblancha/public-datasets/bold5000/derivatives/spm/sub-CSI2/sub-CSI2_mask-RHLOC.nii.gz'),\n",
       " PosixPath('/s/babbage/b/nobackup/nblancha/public-datasets/bold5000/derivatives/spm/sub-CSI2/sub-CSI2_mask-RHOPA.nii.gz'),\n",
       " PosixPath('/s/babbage/b/nobackup/nblancha/public-datasets/bold5000/derivatives/spm/sub-CSI2/sub-CSI2_mask-RHPPA.nii.gz'),\n",
       " PosixPath('/s/babbage/b/nobackup/nblancha/public-datasets/bold5000/derivatives/spm/sub-CSI2/sub-CSI2_mask-RHRSC.nii.gz'),\n",
       " PosixPath('/s/babbage/b/nobackup/nblancha/public-datasets/bold5000/derivatives/spm/sub-CSI3/sub-CSI3_mask-LHEarlyVis.nii.gz'),\n",
       " PosixPath('/s/babbage/b/nobackup/nblancha/public-datasets/bold5000/derivatives/spm/sub-CSI3/sub-CSI3_mask-LHLOC.nii.gz'),\n",
       " PosixPath('/s/babbage/b/nobackup/nblancha/public-datasets/bold5000/derivatives/spm/sub-CSI3/sub-CSI3_mask-LHOPA.nii.gz'),\n",
       " PosixPath('/s/babbage/b/nobackup/nblancha/public-datasets/bold5000/derivatives/spm/sub-CSI3/sub-CSI3_mask-LHPPA.nii.gz'),\n",
       " PosixPath('/s/babbage/b/nobackup/nblancha/public-datasets/bold5000/derivatives/spm/sub-CSI3/sub-CSI3_mask-LHRSC.nii.gz'),\n",
       " PosixPath('/s/babbage/b/nobackup/nblancha/public-datasets/bold5000/derivatives/spm/sub-CSI3/sub-CSI3_mask-RHEarlyVis.nii.gz'),\n",
       " PosixPath('/s/babbage/b/nobackup/nblancha/public-datasets/bold5000/derivatives/spm/sub-CSI3/sub-CSI3_mask-RHLOC.nii.gz'),\n",
       " PosixPath('/s/babbage/b/nobackup/nblancha/public-datasets/bold5000/derivatives/spm/sub-CSI3/sub-CSI3_mask-RHOPA.nii.gz'),\n",
       " PosixPath('/s/babbage/b/nobackup/nblancha/public-datasets/bold5000/derivatives/spm/sub-CSI3/sub-CSI3_mask-RHPPA.nii.gz'),\n",
       " PosixPath('/s/babbage/b/nobackup/nblancha/public-datasets/bold5000/derivatives/spm/sub-CSI3/sub-CSI3_mask-RHRSC.nii.gz'),\n",
       " PosixPath('/s/babbage/b/nobackup/nblancha/public-datasets/bold5000/derivatives/spm/sub-CSI4/sub-CSI4_mask-LHEarlyVis.nii.gz'),\n",
       " PosixPath('/s/babbage/b/nobackup/nblancha/public-datasets/bold5000/derivatives/spm/sub-CSI4/sub-CSI4_mask-LHLOC.nii.gz'),\n",
       " PosixPath('/s/babbage/b/nobackup/nblancha/public-datasets/bold5000/derivatives/spm/sub-CSI4/sub-CSI4_mask-LHOPA.nii.gz'),\n",
       " PosixPath('/s/babbage/b/nobackup/nblancha/public-datasets/bold5000/derivatives/spm/sub-CSI4/sub-CSI4_mask-LHPPA.nii.gz'),\n",
       " PosixPath('/s/babbage/b/nobackup/nblancha/public-datasets/bold5000/derivatives/spm/sub-CSI4/sub-CSI4_mask-LHRSC.nii.gz'),\n",
       " PosixPath('/s/babbage/b/nobackup/nblancha/public-datasets/bold5000/derivatives/spm/sub-CSI4/sub-CSI4_mask-RHEarlyVis.nii.gz'),\n",
       " PosixPath('/s/babbage/b/nobackup/nblancha/public-datasets/bold5000/derivatives/spm/sub-CSI4/sub-CSI4_mask-RHLOC.nii.gz'),\n",
       " PosixPath('/s/babbage/b/nobackup/nblancha/public-datasets/bold5000/derivatives/spm/sub-CSI4/sub-CSI4_mask-RHOPA.nii.gz'),\n",
       " PosixPath('/s/babbage/b/nobackup/nblancha/public-datasets/bold5000/derivatives/spm/sub-CSI4/sub-CSI4_mask-RHPPA.nii.gz'),\n",
       " PosixPath('/s/babbage/b/nobackup/nblancha/public-datasets/bold5000/derivatives/spm/sub-CSI4/sub-CSI4_mask-RHRSC.nii.gz')]"
      ]
     },
     "execution_count": 7,
     "metadata": {},
     "output_type": "execute_result"
    }
   ],
   "source": [
    "masks = sorted(dataset_v1.glob(f'**/sub-CSI*_mask-*.nii.gz'))\n",
    "masks"
   ]
  },
  {
   "cell_type": "code",
   "execution_count": 12,
   "id": "46b1cacb-88aa-4b54-a057-532fee11079e",
   "metadata": {},
   "outputs": [
    {
     "name": "stdout",
     "output_type": "stream",
     "text": [
      "test.bak test.txt\n"
     ]
    }
   ],
   "source": [
    "p = Path('test.txt')\n",
    "with p.open('w') as f:\n",
    "    f.write('Hello World!')\n",
    "p_bak = p.rename(p.with_suffix('.bak'))\n",
    "print(p_bak, p)"
   ]
  },
  {
   "cell_type": "code",
   "execution_count": 15,
   "id": "b17a75b4-7164-4fcc-85d8-0f43450295b7",
   "metadata": {},
   "outputs": [
    {
     "data": {
      "application/vnd.jupyter.widget-view+json": {
       "model_id": "830dac74a80b4166a6e985e97a8aaf7e",
       "version_major": 2,
       "version_minor": 0
      },
      "text/plain": [
       "  0%|          | 0/40 [00:00<?, ?it/s]"
      ]
     },
     "metadata": {},
     "output_type": "display_data"
    },
    {
     "name": "stdout",
     "output_type": "stream",
     "text": [
      "sub-CSI2_mask-RHRSC.nii.gz: FAILED\n",
      "Moved sub-CSI2_mask-RHRSC.nii.gz to sub-CSI2_mask-RHRSC.nii.gz.bak\n",
      "sub-CSI3_mask-RHEarlyVis.nii.gz: FAILED\n",
      "Moved sub-CSI3_mask-RHEarlyVis.nii.gz to sub-CSI3_mask-RHEarlyVis.nii.gz.bak\n"
     ]
    }
   ],
   "source": [
    "for mask in tqdm(masks):\n",
    "    img = nib.load(mask)\n",
    "    data = img.get_fdata()\n",
    "    # Only valid values for binary mask are 0, 1\n",
    "    if not np.array_equal(np.unique(data), [0, 1]):\n",
    "        print(f'{mask.name}: FAILED')\n",
    "        # Fix binary mask\n",
    "        data[data != 0] = 1\n",
    "        # Backup old file\n",
    "        mask_bak = mask.rename(mask.with_suffix(mask.suffix + '.bak'))\n",
    "        print(f'Moved {mask.name} to {mask_bak.name}')\n",
    "        # Save new mask\n",
    "        nib.Nifti1Image(data, img.affine).to_filename(mask)"
   ]
  },
  {
   "cell_type": "markdown",
   "id": "e0709460-51c2-4e5e-8e23-417e498b49d0",
   "metadata": {},
   "source": [
    "## Test"
   ]
  },
  {
   "cell_type": "code",
   "execution_count": 7,
   "id": "01593f73-f24e-40b6-869f-af64b4624515",
   "metadata": {},
   "outputs": [],
   "source": [
    "img = nib.load('/s/babbage/b/nobackup/nblancha/public-datasets/bold5000/derivatives/spm/sub-CSI2/sub-CSI2_mask-LHLOC.nii.gz')"
   ]
  },
  {
   "cell_type": "code",
   "execution_count": 8,
   "id": "2371a2ad-1715-4ab5-a337-75ce6fe99ef1",
   "metadata": {},
   "outputs": [],
   "source": [
    "data = img.get_fdata()"
   ]
  },
  {
   "cell_type": "code",
   "execution_count": 12,
   "id": "b4b1cdbc-8666-4b4e-ab73-f49470df40d3",
   "metadata": {},
   "outputs": [
    {
     "data": {
      "text/plain": [
       "327"
      ]
     },
     "execution_count": 12,
     "metadata": {},
     "output_type": "execute_result"
    }
   ],
   "source": [
    "np.count_nonzero(data != 0)"
   ]
  },
  {
   "cell_type": "code",
   "execution_count": null,
   "id": "d0c4a068-3da3-48e9-b091-106f36624805",
   "metadata": {},
   "outputs": [],
   "source": []
  }
 ],
 "metadata": {
  "kernelspec": {
   "display_name": "Python 3 (ipykernel)",
   "language": "python",
   "name": "python3"
  },
  "language_info": {
   "codemirror_mode": {
    "name": "ipython",
    "version": 3
   },
   "file_extension": ".py",
   "mimetype": "text/x-python",
   "name": "python",
   "nbconvert_exporter": "python",
   "pygments_lexer": "ipython3",
   "version": "3.8.12"
  }
 },
 "nbformat": 4,
 "nbformat_minor": 5
}
