{
 "cells": [
  {
   "cell_type": "markdown",
   "id": "f66c32c2-dee2-4a35-b257-2bf5170b77fd",
   "metadata": {},
   "source": [
    "# WordNet Selector"
   ]
  },
  {
   "cell_type": "code",
   "execution_count": 96,
   "id": "5cbe9935-bc1e-48dc-855c-eb266a8a482f",
   "metadata": {},
   "outputs": [],
   "source": [
    "from pathlib import Path\n",
    "from itertools import chain\n",
    "from more_itertools import collapse\n",
    "import pandas as pd\n",
    "from nltk.corpus import wordnet as wn\n",
    "import re"
   ]
  },
  {
   "cell_type": "code",
   "execution_count": 3,
   "id": "8569e9f5-9786-4497-b132-3730509c0f10",
   "metadata": {},
   "outputs": [],
   "source": [
    "dataset_v1 = Path('/s/babbage/b/nobackup/nblancha/public-datasets/bold5000')\n",
    "dataset_v2 = Path('/s/babbage/b/nobackup/nblancha/public-datasets/bold5000r2')"
   ]
  },
  {
   "cell_type": "code",
   "execution_count": 4,
   "id": "6eb41d3f-2dc2-44f0-ba07-fb80a9fa13c1",
   "metadata": {},
   "outputs": [],
   "source": [
    "def get_dataset(image_name):\n",
    "    if re.match(r'^n[0-9]+', image_name):\n",
    "        return 'ImageNet'\n",
    "    elif re.match(r'^COCO', image_name):\n",
    "        return 'COCO'\n",
    "    else:\n",
    "        return 'Scene'\n",
    "\n",
    "def get_synset(image_name):\n",
    "    offset = re.search(r'(?<=^n)[0-9]+', image_name).group(0)\n",
    "    synset = wn.synset_from_pos_and_offset('n', int(offset))\n",
    "    return synset.name()\n",
    "\n",
    "def get_hypernym_paths(synset):\n",
    "    paths = wn.synset(synset).hypernym_paths()\n",
    "    # Convert to list of strings\n",
    "    paths = [[hypernym.name() for hypernym in path] for path in paths]\n",
    "    return paths\n",
    "\n",
    "def get_ranks(paths):\n",
    "    # Deep copy of paths\n",
    "    paths = [path.copy() for path in paths]\n",
    "    path_sets = []\n",
    "    while True:\n",
    "        rank = set([path.pop(0) for path in paths if path])\n",
    "        \n",
    "        if rank:\n",
    "            path_sets.append(rank)\n",
    "        else:\n",
    "            break\n",
    "\n",
    "    return path_sets"
   ]
  },
  {
   "cell_type": "code",
   "execution_count": 5,
   "id": "beff6f69-6101-471b-ac51-e7dc9ed02d26",
   "metadata": {},
   "outputs": [
    {
     "data": {
      "text/html": [
       "<div>\n",
       "<style scoped>\n",
       "    .dataframe tbody tr th:only-of-type {\n",
       "        vertical-align: middle;\n",
       "    }\n",
       "\n",
       "    .dataframe tbody tr th {\n",
       "        vertical-align: top;\n",
       "    }\n",
       "\n",
       "    .dataframe thead th {\n",
       "        text-align: right;\n",
       "    }\n",
       "</style>\n",
       "<table border=\"1\" class=\"dataframe\">\n",
       "  <thead>\n",
       "    <tr style=\"text-align: right;\">\n",
       "      <th></th>\n",
       "      <th>image</th>\n",
       "      <th>dataset</th>\n",
       "    </tr>\n",
       "  </thead>\n",
       "  <tbody>\n",
       "    <tr>\n",
       "      <th>0</th>\n",
       "      <td>n01930112_19568.JPEG</td>\n",
       "      <td>ImageNet</td>\n",
       "    </tr>\n",
       "    <tr>\n",
       "      <th>1</th>\n",
       "      <td>n03733281_29214.JPEG</td>\n",
       "      <td>ImageNet</td>\n",
       "    </tr>\n",
       "    <tr>\n",
       "      <th>2</th>\n",
       "      <td>n07695742_5848.JPEG</td>\n",
       "      <td>ImageNet</td>\n",
       "    </tr>\n",
       "    <tr>\n",
       "      <th>5</th>\n",
       "      <td>n01917289_1429.JPEG</td>\n",
       "      <td>ImageNet</td>\n",
       "    </tr>\n",
       "    <tr>\n",
       "      <th>6</th>\n",
       "      <td>n02108551_26574.JPEG</td>\n",
       "      <td>ImageNet</td>\n",
       "    </tr>\n",
       "    <tr>\n",
       "      <th>...</th>\n",
       "      <td>...</td>\n",
       "      <td>...</td>\n",
       "    </tr>\n",
       "    <tr>\n",
       "      <th>5243</th>\n",
       "      <td>n09421951_5433.JPEG</td>\n",
       "      <td>ImageNet</td>\n",
       "    </tr>\n",
       "    <tr>\n",
       "      <th>5245</th>\n",
       "      <td>n02018207_3567.JPEG</td>\n",
       "      <td>ImageNet</td>\n",
       "    </tr>\n",
       "    <tr>\n",
       "      <th>5247</th>\n",
       "      <td>n01692333_12353.JPEG</td>\n",
       "      <td>ImageNet</td>\n",
       "    </tr>\n",
       "    <tr>\n",
       "      <th>5248</th>\n",
       "      <td>n03240683_13368.JPEG</td>\n",
       "      <td>ImageNet</td>\n",
       "    </tr>\n",
       "    <tr>\n",
       "      <th>5249</th>\n",
       "      <td>n03459775_11670.JPEG</td>\n",
       "      <td>ImageNet</td>\n",
       "    </tr>\n",
       "  </tbody>\n",
       "</table>\n",
       "<p>2051 rows × 2 columns</p>\n",
       "</div>"
      ],
      "text/plain": [
       "                     image   dataset\n",
       "0     n01930112_19568.JPEG  ImageNet\n",
       "1     n03733281_29214.JPEG  ImageNet\n",
       "2      n07695742_5848.JPEG  ImageNet\n",
       "5      n01917289_1429.JPEG  ImageNet\n",
       "6     n02108551_26574.JPEG  ImageNet\n",
       "...                    ...       ...\n",
       "5243   n09421951_5433.JPEG  ImageNet\n",
       "5245   n02018207_3567.JPEG  ImageNet\n",
       "5247  n01692333_12353.JPEG  ImageNet\n",
       "5248  n03240683_13368.JPEG  ImageNet\n",
       "5249  n03459775_11670.JPEG  ImageNet\n",
       "\n",
       "[2051 rows x 2 columns]"
      ]
     },
     "execution_count": 5,
     "metadata": {},
     "output_type": "execute_result"
    }
   ],
   "source": [
    "df = pd.read_pickle(dataset_v2 / 'CSI1_dataframe.pkl')\n",
    "df = df[df.dataset == 'ImageNet'].copy()\n",
    "df"
   ]
  },
  {
   "cell_type": "code",
   "execution_count": 10,
   "id": "774e0c87-8b0e-44d7-83ba-b211b8174dee",
   "metadata": {},
   "outputs": [
    {
     "data": {
      "text/html": [
       "<div>\n",
       "<style scoped>\n",
       "    .dataframe tbody tr th:only-of-type {\n",
       "        vertical-align: middle;\n",
       "    }\n",
       "\n",
       "    .dataframe tbody tr th {\n",
       "        vertical-align: top;\n",
       "    }\n",
       "\n",
       "    .dataframe thead th {\n",
       "        text-align: right;\n",
       "    }\n",
       "</style>\n",
       "<table border=\"1\" class=\"dataframe\">\n",
       "  <thead>\n",
       "    <tr style=\"text-align: right;\">\n",
       "      <th></th>\n",
       "      <th>image</th>\n",
       "      <th>dataset</th>\n",
       "      <th>synset</th>\n",
       "      <th>hypernym_paths</th>\n",
       "      <th>num_paths</th>\n",
       "      <th>ranks</th>\n",
       "    </tr>\n",
       "  </thead>\n",
       "  <tbody>\n",
       "    <tr>\n",
       "      <th>0</th>\n",
       "      <td>n01930112_19568.JPEG</td>\n",
       "      <td>ImageNet</td>\n",
       "      <td>nematode.n.01</td>\n",
       "      <td>[[entity.n.01, physical_entity.n.01, object.n....</td>\n",
       "      <td>1</td>\n",
       "      <td>[{entity.n.01}, {physical_entity.n.01}, {objec...</td>\n",
       "    </tr>\n",
       "    <tr>\n",
       "      <th>1</th>\n",
       "      <td>n03733281_29214.JPEG</td>\n",
       "      <td>ImageNet</td>\n",
       "      <td>maze.n.01</td>\n",
       "      <td>[[entity.n.01, physical_entity.n.01, object.n....</td>\n",
       "      <td>1</td>\n",
       "      <td>[{entity.n.01}, {physical_entity.n.01}, {objec...</td>\n",
       "    </tr>\n",
       "    <tr>\n",
       "      <th>2</th>\n",
       "      <td>n07695742_5848.JPEG</td>\n",
       "      <td>ImageNet</td>\n",
       "      <td>pretzel.n.01</td>\n",
       "      <td>[[entity.n.01, physical_entity.n.01, matter.n....</td>\n",
       "      <td>2</td>\n",
       "      <td>[{entity.n.01}, {physical_entity.n.01}, {matte...</td>\n",
       "    </tr>\n",
       "    <tr>\n",
       "      <th>5</th>\n",
       "      <td>n01917289_1429.JPEG</td>\n",
       "      <td>ImageNet</td>\n",
       "      <td>brain_coral.n.01</td>\n",
       "      <td>[[entity.n.01, physical_entity.n.01, object.n....</td>\n",
       "      <td>1</td>\n",
       "      <td>[{entity.n.01}, {physical_entity.n.01}, {objec...</td>\n",
       "    </tr>\n",
       "    <tr>\n",
       "      <th>6</th>\n",
       "      <td>n02108551_26574.JPEG</td>\n",
       "      <td>ImageNet</td>\n",
       "      <td>tibetan_mastiff.n.01</td>\n",
       "      <td>[[entity.n.01, physical_entity.n.01, object.n....</td>\n",
       "      <td>2</td>\n",
       "      <td>[{entity.n.01}, {physical_entity.n.01}, {objec...</td>\n",
       "    </tr>\n",
       "    <tr>\n",
       "      <th>...</th>\n",
       "      <td>...</td>\n",
       "      <td>...</td>\n",
       "      <td>...</td>\n",
       "      <td>...</td>\n",
       "      <td>...</td>\n",
       "      <td>...</td>\n",
       "    </tr>\n",
       "    <tr>\n",
       "      <th>5243</th>\n",
       "      <td>n09421951_5433.JPEG</td>\n",
       "      <td>ImageNet</td>\n",
       "      <td>sandbar.n.01</td>\n",
       "      <td>[[entity.n.01, physical_entity.n.01, object.n....</td>\n",
       "      <td>2</td>\n",
       "      <td>[{entity.n.01}, {physical_entity.n.01}, {objec...</td>\n",
       "    </tr>\n",
       "    <tr>\n",
       "      <th>5245</th>\n",
       "      <td>n02018207_3567.JPEG</td>\n",
       "      <td>ImageNet</td>\n",
       "      <td>american_coot.n.01</td>\n",
       "      <td>[[entity.n.01, physical_entity.n.01, object.n....</td>\n",
       "      <td>1</td>\n",
       "      <td>[{entity.n.01}, {physical_entity.n.01}, {objec...</td>\n",
       "    </tr>\n",
       "    <tr>\n",
       "      <th>5247</th>\n",
       "      <td>n01692333_12353.JPEG</td>\n",
       "      <td>ImageNet</td>\n",
       "      <td>gila_monster.n.01</td>\n",
       "      <td>[[entity.n.01, physical_entity.n.01, object.n....</td>\n",
       "      <td>1</td>\n",
       "      <td>[{entity.n.01}, {physical_entity.n.01}, {objec...</td>\n",
       "    </tr>\n",
       "    <tr>\n",
       "      <th>5248</th>\n",
       "      <td>n03240683_13368.JPEG</td>\n",
       "      <td>ImageNet</td>\n",
       "      <td>drilling_platform.n.01</td>\n",
       "      <td>[[entity.n.01, physical_entity.n.01, object.n....</td>\n",
       "      <td>1</td>\n",
       "      <td>[{entity.n.01}, {physical_entity.n.01}, {objec...</td>\n",
       "    </tr>\n",
       "    <tr>\n",
       "      <th>5249</th>\n",
       "      <td>n03459775_11670.JPEG</td>\n",
       "      <td>ImageNet</td>\n",
       "      <td>grille.n.02</td>\n",
       "      <td>[[entity.n.01, physical_entity.n.01, object.n....</td>\n",
       "      <td>1</td>\n",
       "      <td>[{entity.n.01}, {physical_entity.n.01}, {objec...</td>\n",
       "    </tr>\n",
       "  </tbody>\n",
       "</table>\n",
       "<p>2051 rows × 6 columns</p>\n",
       "</div>"
      ],
      "text/plain": [
       "                     image   dataset                  synset  \\\n",
       "0     n01930112_19568.JPEG  ImageNet           nematode.n.01   \n",
       "1     n03733281_29214.JPEG  ImageNet               maze.n.01   \n",
       "2      n07695742_5848.JPEG  ImageNet            pretzel.n.01   \n",
       "5      n01917289_1429.JPEG  ImageNet        brain_coral.n.01   \n",
       "6     n02108551_26574.JPEG  ImageNet    tibetan_mastiff.n.01   \n",
       "...                    ...       ...                     ...   \n",
       "5243   n09421951_5433.JPEG  ImageNet            sandbar.n.01   \n",
       "5245   n02018207_3567.JPEG  ImageNet      american_coot.n.01   \n",
       "5247  n01692333_12353.JPEG  ImageNet       gila_monster.n.01   \n",
       "5248  n03240683_13368.JPEG  ImageNet  drilling_platform.n.01   \n",
       "5249  n03459775_11670.JPEG  ImageNet             grille.n.02   \n",
       "\n",
       "                                         hypernym_paths  num_paths  \\\n",
       "0     [[entity.n.01, physical_entity.n.01, object.n....          1   \n",
       "1     [[entity.n.01, physical_entity.n.01, object.n....          1   \n",
       "2     [[entity.n.01, physical_entity.n.01, matter.n....          2   \n",
       "5     [[entity.n.01, physical_entity.n.01, object.n....          1   \n",
       "6     [[entity.n.01, physical_entity.n.01, object.n....          2   \n",
       "...                                                 ...        ...   \n",
       "5243  [[entity.n.01, physical_entity.n.01, object.n....          2   \n",
       "5245  [[entity.n.01, physical_entity.n.01, object.n....          1   \n",
       "5247  [[entity.n.01, physical_entity.n.01, object.n....          1   \n",
       "5248  [[entity.n.01, physical_entity.n.01, object.n....          1   \n",
       "5249  [[entity.n.01, physical_entity.n.01, object.n....          1   \n",
       "\n",
       "                                                  ranks  \n",
       "0     [{entity.n.01}, {physical_entity.n.01}, {objec...  \n",
       "1     [{entity.n.01}, {physical_entity.n.01}, {objec...  \n",
       "2     [{entity.n.01}, {physical_entity.n.01}, {matte...  \n",
       "5     [{entity.n.01}, {physical_entity.n.01}, {objec...  \n",
       "6     [{entity.n.01}, {physical_entity.n.01}, {objec...  \n",
       "...                                                 ...  \n",
       "5243  [{entity.n.01}, {physical_entity.n.01}, {objec...  \n",
       "5245  [{entity.n.01}, {physical_entity.n.01}, {objec...  \n",
       "5247  [{entity.n.01}, {physical_entity.n.01}, {objec...  \n",
       "5248  [{entity.n.01}, {physical_entity.n.01}, {objec...  \n",
       "5249  [{entity.n.01}, {physical_entity.n.01}, {objec...  \n",
       "\n",
       "[2051 rows x 6 columns]"
      ]
     },
     "execution_count": 10,
     "metadata": {},
     "output_type": "execute_result"
    }
   ],
   "source": [
    "# Process synsets\n",
    "df['synset'] = df.image.map(get_synset)\n",
    "df['hypernym_paths'] = df.synset.map(get_hypernym_paths)\n",
    "df['num_paths'] = df.hypernym_paths.map(lambda p: len(p))\n",
    "df['ranks'] = df.hypernym_paths.map(get_ranks)\n",
    "df"
   ]
  },
  {
   "cell_type": "code",
   "execution_count": 7,
   "id": "dc50754f-fdb3-498a-b524-217cf4ef2338",
   "metadata": {},
   "outputs": [
    {
     "data": {
      "text/plain": [
       "1916"
      ]
     },
     "execution_count": 7,
     "metadata": {},
     "output_type": "execute_result"
    }
   ],
   "source": [
    "len(images)"
   ]
  },
  {
   "cell_type": "markdown",
   "id": "b3f4ee8d-bbef-49db-8c4d-83d8d854e92f",
   "metadata": {},
   "source": [
    "## New Sorting Approach"
   ]
  },
  {
   "cell_type": "code",
   "execution_count": 6,
   "id": "eec1f7ef-a3d5-4c98-bf57-ae008cfd7f79",
   "metadata": {},
   "outputs": [
    {
     "data": {
      "text/html": [
       "<div>\n",
       "<style scoped>\n",
       "    .dataframe tbody tr th:only-of-type {\n",
       "        vertical-align: middle;\n",
       "    }\n",
       "\n",
       "    .dataframe tbody tr th {\n",
       "        vertical-align: top;\n",
       "    }\n",
       "\n",
       "    .dataframe thead th {\n",
       "        text-align: right;\n",
       "    }\n",
       "</style>\n",
       "<table border=\"1\" class=\"dataframe\">\n",
       "  <thead>\n",
       "    <tr style=\"text-align: right;\">\n",
       "      <th></th>\n",
       "      <th>image</th>\n",
       "      <th>dataset</th>\n",
       "      <th>synset</th>\n",
       "    </tr>\n",
       "  </thead>\n",
       "  <tbody>\n",
       "    <tr>\n",
       "      <th>0</th>\n",
       "      <td>n01930112_19568.JPEG</td>\n",
       "      <td>ImageNet</td>\n",
       "      <td>nematode.n.01</td>\n",
       "    </tr>\n",
       "    <tr>\n",
       "      <th>1</th>\n",
       "      <td>n03733281_29214.JPEG</td>\n",
       "      <td>ImageNet</td>\n",
       "      <td>maze.n.01</td>\n",
       "    </tr>\n",
       "    <tr>\n",
       "      <th>2</th>\n",
       "      <td>n07695742_5848.JPEG</td>\n",
       "      <td>ImageNet</td>\n",
       "      <td>pretzel.n.01</td>\n",
       "    </tr>\n",
       "    <tr>\n",
       "      <th>5</th>\n",
       "      <td>n01917289_1429.JPEG</td>\n",
       "      <td>ImageNet</td>\n",
       "      <td>brain_coral.n.01</td>\n",
       "    </tr>\n",
       "    <tr>\n",
       "      <th>6</th>\n",
       "      <td>n02108551_26574.JPEG</td>\n",
       "      <td>ImageNet</td>\n",
       "      <td>tibetan_mastiff.n.01</td>\n",
       "    </tr>\n",
       "    <tr>\n",
       "      <th>...</th>\n",
       "      <td>...</td>\n",
       "      <td>...</td>\n",
       "      <td>...</td>\n",
       "    </tr>\n",
       "    <tr>\n",
       "      <th>5243</th>\n",
       "      <td>n09421951_5433.JPEG</td>\n",
       "      <td>ImageNet</td>\n",
       "      <td>sandbar.n.01</td>\n",
       "    </tr>\n",
       "    <tr>\n",
       "      <th>5245</th>\n",
       "      <td>n02018207_3567.JPEG</td>\n",
       "      <td>ImageNet</td>\n",
       "      <td>american_coot.n.01</td>\n",
       "    </tr>\n",
       "    <tr>\n",
       "      <th>5247</th>\n",
       "      <td>n01692333_12353.JPEG</td>\n",
       "      <td>ImageNet</td>\n",
       "      <td>gila_monster.n.01</td>\n",
       "    </tr>\n",
       "    <tr>\n",
       "      <th>5248</th>\n",
       "      <td>n03240683_13368.JPEG</td>\n",
       "      <td>ImageNet</td>\n",
       "      <td>drilling_platform.n.01</td>\n",
       "    </tr>\n",
       "    <tr>\n",
       "      <th>5249</th>\n",
       "      <td>n03459775_11670.JPEG</td>\n",
       "      <td>ImageNet</td>\n",
       "      <td>grille.n.02</td>\n",
       "    </tr>\n",
       "  </tbody>\n",
       "</table>\n",
       "<p>2051 rows × 3 columns</p>\n",
       "</div>"
      ],
      "text/plain": [
       "                     image   dataset                  synset\n",
       "0     n01930112_19568.JPEG  ImageNet           nematode.n.01\n",
       "1     n03733281_29214.JPEG  ImageNet               maze.n.01\n",
       "2      n07695742_5848.JPEG  ImageNet            pretzel.n.01\n",
       "5      n01917289_1429.JPEG  ImageNet        brain_coral.n.01\n",
       "6     n02108551_26574.JPEG  ImageNet    tibetan_mastiff.n.01\n",
       "...                    ...       ...                     ...\n",
       "5243   n09421951_5433.JPEG  ImageNet            sandbar.n.01\n",
       "5245   n02018207_3567.JPEG  ImageNet      american_coot.n.01\n",
       "5247  n01692333_12353.JPEG  ImageNet       gila_monster.n.01\n",
       "5248  n03240683_13368.JPEG  ImageNet  drilling_platform.n.01\n",
       "5249  n03459775_11670.JPEG  ImageNet             grille.n.02\n",
       "\n",
       "[2051 rows x 3 columns]"
      ]
     },
     "execution_count": 6,
     "metadata": {},
     "output_type": "execute_result"
    }
   ],
   "source": [
    "df['synset'] = df.image.map(get_synset)\n",
    "df"
   ]
  },
  {
   "cell_type": "code",
   "execution_count": 8,
   "id": "beb6b6bc-3009-4429-9046-59cfeb80e888",
   "metadata": {},
   "outputs": [
    {
     "data": {
      "text/plain": [
       "[Synset('nematode.n.01')]"
      ]
     },
     "execution_count": 8,
     "metadata": {},
     "output_type": "execute_result"
    }
   ],
   "source": [
    "wn.synsets('nematode')"
   ]
  },
  {
   "cell_type": "code",
   "execution_count": 9,
   "id": "cef99f87-eb20-4c7b-a1f4-3fb4be5197ff",
   "metadata": {},
   "outputs": [],
   "source": [
    "ss_nematode = wn.synsets('nematode')[0]"
   ]
  },
  {
   "cell_type": "code",
   "execution_count": 19,
   "id": "5a0ebd2a-3137-45c4-b041-68ba829ddd6e",
   "metadata": {},
   "outputs": [
    {
     "data": {
      "text/plain": [
       "['nematode', 'nematode_worm', 'roundworm']"
      ]
     },
     "execution_count": 19,
     "metadata": {},
     "output_type": "execute_result"
    }
   ],
   "source": [
    "ss_nematode.lemma_names()"
   ]
  },
  {
   "cell_type": "code",
   "execution_count": 22,
   "id": "6119efa5-d5b6-49d4-906d-a8959c960fee",
   "metadata": {},
   "outputs": [],
   "source": [
    "ss = wn.synsets('traffic_light')[0]"
   ]
  },
  {
   "cell_type": "code",
   "execution_count": 23,
   "id": "6990cf31-9215-4c65-848a-4be8b5b7a8ad",
   "metadata": {},
   "outputs": [
    {
     "data": {
      "text/plain": [
       "[Lemma('traffic_light.n.01.traffic_light'),\n",
       " Lemma('traffic_light.n.01.traffic_signal'),\n",
       " Lemma('traffic_light.n.01.stoplight')]"
      ]
     },
     "execution_count": 23,
     "metadata": {},
     "output_type": "execute_result"
    }
   ],
   "source": [
    "ss.lemmas()"
   ]
  },
  {
   "cell_type": "code",
   "execution_count": 26,
   "id": "6d12a5ef-5023-46e8-bafd-82e82bec9761",
   "metadata": {},
   "outputs": [
    {
     "data": {
      "text/plain": [
       "[Lemma('stoplight.n.01.stoplight'), Lemma('stoplight.n.01.brake_light')]"
      ]
     },
     "execution_count": 26,
     "metadata": {},
     "output_type": "execute_result"
    }
   ],
   "source": [
    "wn.synsets('stoplight')[0].lemmas()"
   ]
  },
  {
   "cell_type": "code",
   "execution_count": 27,
   "id": "91fc41ab-5ecf-498a-8db3-aba13ba6f148",
   "metadata": {},
   "outputs": [
    {
     "data": {
      "text/plain": [
       "[Synset('light.n.14')]"
      ]
     },
     "execution_count": 27,
     "metadata": {},
     "output_type": "execute_result"
    }
   ],
   "source": [
    "ss.hypernyms()"
   ]
  },
  {
   "cell_type": "code",
   "execution_count": 30,
   "id": "4286d0d2-db36-4167-bfc9-3266d6c8456e",
   "metadata": {},
   "outputs": [
    {
     "data": {
      "text/plain": [
       "[Synset('light.n.14'),\n",
       " Synset('visual_signal.n.01'),\n",
       " Synset('signal.n.01'),\n",
       " Synset('communication.n.02'),\n",
       " Synset('abstraction.n.06'),\n",
       " Synset('entity.n.01')]"
      ]
     },
     "execution_count": 30,
     "metadata": {},
     "output_type": "execute_result"
    }
   ],
   "source": [
    "list(ss.closure(lambda s: s.hypernyms()))"
   ]
  },
  {
   "cell_type": "code",
   "execution_count": 31,
   "id": "32773a16-7383-4e7f-94d6-bbf7cdbf39e4",
   "metadata": {},
   "outputs": [
    {
     "data": {
      "text/plain": [
       "['abstraction',\n",
       " 'signal',\n",
       " 'sign',\n",
       " 'signaling',\n",
       " 'visual_signal',\n",
       " 'entity',\n",
       " 'light',\n",
       " 'abstract_entity',\n",
       " 'communication']"
      ]
     },
     "execution_count": 31,
     "metadata": {},
     "output_type": "execute_result"
    }
   ],
   "source": [
    "list(set([w for s in ss.closure(lambda s:s.hypernyms()) for w in s.lemma_names()]))"
   ]
  },
  {
   "cell_type": "code",
   "execution_count": 129,
   "id": "db20d772-5d7a-45fa-ad29-9b8b4ff68908",
   "metadata": {},
   "outputs": [],
   "source": [
    "def categorize(synset):\n",
    "    category = None\n",
    "    ss = wn.synset(synset)\n",
    "    hypernyms = list(set([w for s in ss.closure(lambda s:s.hypernyms()) for w in s.lemma_names()]))\n",
    "    \n",
    "    if 'artifact' in hypernyms:\n",
    "        category = 'artifact'\n",
    "        \n",
    "    # if 'person' in hypernyms:\n",
    "    #     category = 'person'\n",
    "    \n",
    "    if 'organism' in hypernyms:\n",
    "        if category:\n",
    "            print(f'ERROR: Collision, {ss}, {category}, organism')\n",
    "        else:\n",
    "            category = 'organism'\n",
    "            \n",
    "    if 'food' in hypernyms:\n",
    "        if category:\n",
    "            print(f'ERROR: Collision, {ss}, {category}, food')\n",
    "        else:\n",
    "            category = 'food'\n",
    "            \n",
    "    if 'geological_formation' in hypernyms:\n",
    "        if category:\n",
    "            print(f'ERROR: Collision, {ss}, {category}, place')\n",
    "        else:\n",
    "            category = 'place'\n",
    "    \n",
    "    # Special cases\n",
    "    if not category:\n",
    "        # Plants that didn't fall under food\n",
    "        if 'plant_part' in hypernyms:\n",
    "            category = 'organism'\n",
    "        else:\n",
    "        # traffic_light, street_sign, bubble, toilet_tissue\n",
    "            category = 'artifact'\n",
    "            \n",
    "    return category"
   ]
  },
  {
   "cell_type": "code",
   "execution_count": 130,
   "id": "7edb362c-1f46-477f-8523-7a42c8f834f8",
   "metadata": {},
   "outputs": [
    {
     "name": "stderr",
     "output_type": "stream",
     "text": [
      "/s/babbage/b/nobackup/nblancha/merry/conda/envs/fmri-gen/lib/python3.8/site-packages/nltk/corpus/reader/wordnet.py:599: UserWarning: Discarded redundant search for Synset('physical_entity.n.01') at depth 7\n",
      "  for synset in acyclic_breadth_first(self, rel, depth):\n",
      "/s/babbage/b/nobackup/nblancha/merry/conda/envs/fmri-gen/lib/python3.8/site-packages/nltk/corpus/reader/wordnet.py:599: UserWarning: Discarded redundant search for Synset('physical_entity.n.01') at depth 8\n",
      "  for synset in acyclic_breadth_first(self, rel, depth):\n",
      "/s/babbage/b/nobackup/nblancha/merry/conda/envs/fmri-gen/lib/python3.8/site-packages/nltk/corpus/reader/wordnet.py:599: UserWarning: Discarded redundant search for Synset('physical_entity.n.01') at depth 9\n",
      "  for synset in acyclic_breadth_first(self, rel, depth):\n",
      "/s/babbage/b/nobackup/nblancha/merry/conda/envs/fmri-gen/lib/python3.8/site-packages/nltk/corpus/reader/wordnet.py:599: UserWarning: Discarded redundant search for Synset('fish.n.01') at depth 6\n",
      "  for synset in acyclic_breadth_first(self, rel, depth):\n",
      "/s/babbage/b/nobackup/nblancha/merry/conda/envs/fmri-gen/lib/python3.8/site-packages/nltk/corpus/reader/wordnet.py:599: UserWarning: Discarded redundant search for Synset('substance.n.07') at depth 7\n",
      "  for synset in acyclic_breadth_first(self, rel, depth):\n",
      "/s/babbage/b/nobackup/nblancha/merry/conda/envs/fmri-gen/lib/python3.8/site-packages/nltk/corpus/reader/wordnet.py:599: UserWarning: Discarded redundant search for Synset('matter.n.03') at depth 8\n",
      "  for synset in acyclic_breadth_first(self, rel, depth):\n",
      "/s/babbage/b/nobackup/nblancha/merry/conda/envs/fmri-gen/lib/python3.8/site-packages/nltk/corpus/reader/wordnet.py:599: UserWarning: Discarded redundant search for Synset('entity.n.01') at depth 11\n",
      "  for synset in acyclic_breadth_first(self, rel, depth):\n",
      "/s/babbage/b/nobackup/nblancha/merry/conda/envs/fmri-gen/lib/python3.8/site-packages/nltk/corpus/reader/wordnet.py:599: UserWarning: Discarded redundant search for Synset('covering.n.02') at depth 4\n",
      "  for synset in acyclic_breadth_first(self, rel, depth):\n",
      "/s/babbage/b/nobackup/nblancha/merry/conda/envs/fmri-gen/lib/python3.8/site-packages/nltk/corpus/reader/wordnet.py:599: UserWarning: Discarded redundant search for Synset('instrumentality.n.03') at depth 8\n",
      "  for synset in acyclic_breadth_first(self, rel, depth):\n",
      "/s/babbage/b/nobackup/nblancha/merry/conda/envs/fmri-gen/lib/python3.8/site-packages/nltk/corpus/reader/wordnet.py:599: UserWarning: Discarded redundant search for Synset('artifact.n.01') at depth 4\n",
      "  for synset in acyclic_breadth_first(self, rel, depth):\n",
      "/s/babbage/b/nobackup/nblancha/merry/conda/envs/fmri-gen/lib/python3.8/site-packages/nltk/corpus/reader/wordnet.py:599: UserWarning: Discarded redundant search for Synset('vehicle.n.01') at depth 4\n",
      "  for synset in acyclic_breadth_first(self, rel, depth):\n",
      "/s/babbage/b/nobackup/nblancha/merry/conda/envs/fmri-gen/lib/python3.8/site-packages/nltk/corpus/reader/wordnet.py:599: UserWarning: Discarded redundant search for Synset('entity.n.01') at depth 9\n",
      "  for synset in acyclic_breadth_first(self, rel, depth):\n",
      "/s/babbage/b/nobackup/nblancha/merry/conda/envs/fmri-gen/lib/python3.8/site-packages/nltk/corpus/reader/wordnet.py:599: UserWarning: Discarded redundant search for Synset('tool.n.01') at depth 4\n",
      "  for synset in acyclic_breadth_first(self, rel, depth):\n",
      "/s/babbage/b/nobackup/nblancha/merry/conda/envs/fmri-gen/lib/python3.8/site-packages/nltk/corpus/reader/wordnet.py:599: UserWarning: Discarded redundant search for Synset('vehicle.n.01') at depth 6\n",
      "  for synset in acyclic_breadth_first(self, rel, depth):\n",
      "/s/babbage/b/nobackup/nblancha/merry/conda/envs/fmri-gen/lib/python3.8/site-packages/nltk/corpus/reader/wordnet.py:599: UserWarning: Discarded redundant search for Synset('artifact.n.01') at depth 5\n",
      "  for synset in acyclic_breadth_first(self, rel, depth):\n",
      "/s/babbage/b/nobackup/nblancha/merry/conda/envs/fmri-gen/lib/python3.8/site-packages/nltk/corpus/reader/wordnet.py:599: UserWarning: Discarded redundant search for Synset('object.n.01') at depth 8\n",
      "  for synset in acyclic_breadth_first(self, rel, depth):\n",
      "/s/babbage/b/nobackup/nblancha/merry/conda/envs/fmri-gen/lib/python3.8/site-packages/nltk/corpus/reader/wordnet.py:599: UserWarning: Discarded redundant search for Synset('structure.n.01') at depth 6\n",
      "  for synset in acyclic_breadth_first(self, rel, depth):\n",
      "/s/babbage/b/nobackup/nblancha/merry/conda/envs/fmri-gen/lib/python3.8/site-packages/nltk/corpus/reader/wordnet.py:599: UserWarning: Discarded redundant search for Synset('animal.n.01') at depth 6\n",
      "  for synset in acyclic_breadth_first(self, rel, depth):\n",
      "/s/babbage/b/nobackup/nblancha/merry/conda/envs/fmri-gen/lib/python3.8/site-packages/nltk/corpus/reader/wordnet.py:599: UserWarning: Discarded redundant search for Synset('vehicle.n.01') at depth 5\n",
      "  for synset in acyclic_breadth_first(self, rel, depth):\n",
      "/s/babbage/b/nobackup/nblancha/merry/conda/envs/fmri-gen/lib/python3.8/site-packages/nltk/corpus/reader/wordnet.py:599: UserWarning: Discarded redundant search for Synset('substance.n.07') at depth 6\n",
      "  for synset in acyclic_breadth_first(self, rel, depth):\n",
      "/s/babbage/b/nobackup/nblancha/merry/conda/envs/fmri-gen/lib/python3.8/site-packages/nltk/corpus/reader/wordnet.py:599: UserWarning: Discarded redundant search for Synset('entity.n.01') at depth 10\n",
      "  for synset in acyclic_breadth_first(self, rel, depth):\n",
      "/s/babbage/b/nobackup/nblancha/merry/conda/envs/fmri-gen/lib/python3.8/site-packages/nltk/corpus/reader/wordnet.py:599: UserWarning: Discarded redundant search for Synset('entity.n.01') at depth 8\n",
      "  for synset in acyclic_breadth_first(self, rel, depth):\n"
     ]
    }
   ],
   "source": [
    "df['category'] = df.synset.map(categorize)"
   ]
  },
  {
   "cell_type": "code",
   "execution_count": 131,
   "id": "c69f9490-dada-4384-8a76-62dbbbbcb31a",
   "metadata": {},
   "outputs": [
    {
     "data": {
      "text/html": [
       "<div>\n",
       "<style scoped>\n",
       "    .dataframe tbody tr th:only-of-type {\n",
       "        vertical-align: middle;\n",
       "    }\n",
       "\n",
       "    .dataframe tbody tr th {\n",
       "        vertical-align: top;\n",
       "    }\n",
       "\n",
       "    .dataframe thead th {\n",
       "        text-align: right;\n",
       "    }\n",
       "</style>\n",
       "<table border=\"1\" class=\"dataframe\">\n",
       "  <thead>\n",
       "    <tr style=\"text-align: right;\">\n",
       "      <th></th>\n",
       "      <th>image</th>\n",
       "      <th>dataset</th>\n",
       "      <th>synset</th>\n",
       "      <th>category</th>\n",
       "    </tr>\n",
       "  </thead>\n",
       "  <tbody>\n",
       "    <tr>\n",
       "      <th>0</th>\n",
       "      <td>n01930112_19568.JPEG</td>\n",
       "      <td>ImageNet</td>\n",
       "      <td>nematode.n.01</td>\n",
       "      <td>organism</td>\n",
       "    </tr>\n",
       "    <tr>\n",
       "      <th>1</th>\n",
       "      <td>n03733281_29214.JPEG</td>\n",
       "      <td>ImageNet</td>\n",
       "      <td>maze.n.01</td>\n",
       "      <td>artifact</td>\n",
       "    </tr>\n",
       "    <tr>\n",
       "      <th>2</th>\n",
       "      <td>n07695742_5848.JPEG</td>\n",
       "      <td>ImageNet</td>\n",
       "      <td>pretzel.n.01</td>\n",
       "      <td>food</td>\n",
       "    </tr>\n",
       "    <tr>\n",
       "      <th>5</th>\n",
       "      <td>n01917289_1429.JPEG</td>\n",
       "      <td>ImageNet</td>\n",
       "      <td>brain_coral.n.01</td>\n",
       "      <td>organism</td>\n",
       "    </tr>\n",
       "    <tr>\n",
       "      <th>6</th>\n",
       "      <td>n02108551_26574.JPEG</td>\n",
       "      <td>ImageNet</td>\n",
       "      <td>tibetan_mastiff.n.01</td>\n",
       "      <td>organism</td>\n",
       "    </tr>\n",
       "    <tr>\n",
       "      <th>...</th>\n",
       "      <td>...</td>\n",
       "      <td>...</td>\n",
       "      <td>...</td>\n",
       "      <td>...</td>\n",
       "    </tr>\n",
       "    <tr>\n",
       "      <th>5243</th>\n",
       "      <td>n09421951_5433.JPEG</td>\n",
       "      <td>ImageNet</td>\n",
       "      <td>sandbar.n.01</td>\n",
       "      <td>place</td>\n",
       "    </tr>\n",
       "    <tr>\n",
       "      <th>5245</th>\n",
       "      <td>n02018207_3567.JPEG</td>\n",
       "      <td>ImageNet</td>\n",
       "      <td>american_coot.n.01</td>\n",
       "      <td>organism</td>\n",
       "    </tr>\n",
       "    <tr>\n",
       "      <th>5247</th>\n",
       "      <td>n01692333_12353.JPEG</td>\n",
       "      <td>ImageNet</td>\n",
       "      <td>gila_monster.n.01</td>\n",
       "      <td>organism</td>\n",
       "    </tr>\n",
       "    <tr>\n",
       "      <th>5248</th>\n",
       "      <td>n03240683_13368.JPEG</td>\n",
       "      <td>ImageNet</td>\n",
       "      <td>drilling_platform.n.01</td>\n",
       "      <td>artifact</td>\n",
       "    </tr>\n",
       "    <tr>\n",
       "      <th>5249</th>\n",
       "      <td>n03459775_11670.JPEG</td>\n",
       "      <td>ImageNet</td>\n",
       "      <td>grille.n.02</td>\n",
       "      <td>artifact</td>\n",
       "    </tr>\n",
       "  </tbody>\n",
       "</table>\n",
       "<p>2051 rows × 4 columns</p>\n",
       "</div>"
      ],
      "text/plain": [
       "                     image   dataset                  synset  category\n",
       "0     n01930112_19568.JPEG  ImageNet           nematode.n.01  organism\n",
       "1     n03733281_29214.JPEG  ImageNet               maze.n.01  artifact\n",
       "2      n07695742_5848.JPEG  ImageNet            pretzel.n.01      food\n",
       "5      n01917289_1429.JPEG  ImageNet        brain_coral.n.01  organism\n",
       "6     n02108551_26574.JPEG  ImageNet    tibetan_mastiff.n.01  organism\n",
       "...                    ...       ...                     ...       ...\n",
       "5243   n09421951_5433.JPEG  ImageNet            sandbar.n.01     place\n",
       "5245   n02018207_3567.JPEG  ImageNet      american_coot.n.01  organism\n",
       "5247  n01692333_12353.JPEG  ImageNet       gila_monster.n.01  organism\n",
       "5248  n03240683_13368.JPEG  ImageNet  drilling_platform.n.01  artifact\n",
       "5249  n03459775_11670.JPEG  ImageNet             grille.n.02  artifact\n",
       "\n",
       "[2051 rows x 4 columns]"
      ]
     },
     "execution_count": 131,
     "metadata": {},
     "output_type": "execute_result"
    }
   ],
   "source": [
    "df"
   ]
  },
  {
   "cell_type": "code",
   "execution_count": 132,
   "id": "2239ae88-385c-4502-8acf-ca5300ad4ddb",
   "metadata": {},
   "outputs": [
    {
     "data": {
      "text/html": [
       "<div>\n",
       "<style scoped>\n",
       "    .dataframe tbody tr th:only-of-type {\n",
       "        vertical-align: middle;\n",
       "    }\n",
       "\n",
       "    .dataframe tbody tr th {\n",
       "        vertical-align: top;\n",
       "    }\n",
       "\n",
       "    .dataframe thead th {\n",
       "        text-align: right;\n",
       "    }\n",
       "</style>\n",
       "<table border=\"1\" class=\"dataframe\">\n",
       "  <thead>\n",
       "    <tr style=\"text-align: right;\">\n",
       "      <th></th>\n",
       "      <th>image</th>\n",
       "      <th>dataset</th>\n",
       "      <th>synset</th>\n",
       "      <th>category</th>\n",
       "    </tr>\n",
       "  </thead>\n",
       "  <tbody>\n",
       "  </tbody>\n",
       "</table>\n",
       "</div>"
      ],
      "text/plain": [
       "Empty DataFrame\n",
       "Columns: [image, dataset, synset, category]\n",
       "Index: []"
      ]
     },
     "execution_count": 132,
     "metadata": {},
     "output_type": "execute_result"
    }
   ],
   "source": [
    "df[df.category.isna()]"
   ]
  },
  {
   "cell_type": "code",
   "execution_count": 133,
   "id": "bef062a1-83dd-4d2f-8570-1e3f036d1fe0",
   "metadata": {},
   "outputs": [
    {
     "data": {
      "text/plain": [
       "artifact    1109\n",
       "organism     823\n",
       "food          99\n",
       "place         20\n",
       "Name: category, dtype: int64"
      ]
     },
     "execution_count": 133,
     "metadata": {},
     "output_type": "execute_result"
    }
   ],
   "source": [
    "df.category.value_counts()"
   ]
  },
  {
   "cell_type": "code",
   "execution_count": 118,
   "id": "5d7eca61-7638-447e-ad97-5315348d540c",
   "metadata": {},
   "outputs": [
    {
     "data": {
      "text/html": [
       "<div>\n",
       "<style scoped>\n",
       "    .dataframe tbody tr th:only-of-type {\n",
       "        vertical-align: middle;\n",
       "    }\n",
       "\n",
       "    .dataframe tbody tr th {\n",
       "        vertical-align: top;\n",
       "    }\n",
       "\n",
       "    .dataframe thead th {\n",
       "        text-align: right;\n",
       "    }\n",
       "</style>\n",
       "<table border=\"1\" class=\"dataframe\">\n",
       "  <thead>\n",
       "    <tr style=\"text-align: right;\">\n",
       "      <th></th>\n",
       "      <th>image</th>\n",
       "      <th>dataset</th>\n",
       "      <th>synset</th>\n",
       "      <th>category</th>\n",
       "    </tr>\n",
       "  </thead>\n",
       "  <tbody>\n",
       "    <tr>\n",
       "      <th>2213</th>\n",
       "      <td>n09835506_3109.JPEG</td>\n",
       "      <td>ImageNet</td>\n",
       "      <td>ballplayer.n.01</td>\n",
       "      <td>person</td>\n",
       "    </tr>\n",
       "    <tr>\n",
       "      <th>2843</th>\n",
       "      <td>n09835506_1446.JPEG</td>\n",
       "      <td>ImageNet</td>\n",
       "      <td>ballplayer.n.01</td>\n",
       "      <td>person</td>\n",
       "    </tr>\n",
       "    <tr>\n",
       "      <th>3221</th>\n",
       "      <td>n10565667_5063.JPEG</td>\n",
       "      <td>ImageNet</td>\n",
       "      <td>scuba_diver.n.01</td>\n",
       "      <td>person</td>\n",
       "    </tr>\n",
       "    <tr>\n",
       "      <th>4802</th>\n",
       "      <td>n10148035_8180.JPEG</td>\n",
       "      <td>ImageNet</td>\n",
       "      <td>groom.n.01</td>\n",
       "      <td>person</td>\n",
       "    </tr>\n",
       "    <tr>\n",
       "      <th>4867</th>\n",
       "      <td>n10148035_12439.JPEG</td>\n",
       "      <td>ImageNet</td>\n",
       "      <td>groom.n.01</td>\n",
       "      <td>person</td>\n",
       "    </tr>\n",
       "    <tr>\n",
       "      <th>5016</th>\n",
       "      <td>n10565667_501.JPEG</td>\n",
       "      <td>ImageNet</td>\n",
       "      <td>scuba_diver.n.01</td>\n",
       "      <td>person</td>\n",
       "    </tr>\n",
       "  </tbody>\n",
       "</table>\n",
       "</div>"
      ],
      "text/plain": [
       "                     image   dataset            synset category\n",
       "2213   n09835506_3109.JPEG  ImageNet   ballplayer.n.01   person\n",
       "2843   n09835506_1446.JPEG  ImageNet   ballplayer.n.01   person\n",
       "3221   n10565667_5063.JPEG  ImageNet  scuba_diver.n.01   person\n",
       "4802   n10148035_8180.JPEG  ImageNet        groom.n.01   person\n",
       "4867  n10148035_12439.JPEG  ImageNet        groom.n.01   person\n",
       "5016    n10565667_501.JPEG  ImageNet  scuba_diver.n.01   person"
      ]
     },
     "execution_count": 118,
     "metadata": {},
     "output_type": "execute_result"
    }
   ],
   "source": [
    "df[df.category == 'person']"
   ]
  },
  {
   "cell_type": "code",
   "execution_count": 70,
   "id": "a21bc92d-6d65-46c0-be98-9eed5bc3be7e",
   "metadata": {},
   "outputs": [
    {
     "data": {
      "text/plain": [
       "['entree',\n",
       " 'aliment',\n",
       " 'nutrition',\n",
       " 'physical_entity',\n",
       " 'food',\n",
       " 'course',\n",
       " 'entity',\n",
       " 'alimentation',\n",
       " 'substance',\n",
       " 'matter',\n",
       " 'main_course',\n",
       " 'nutrient',\n",
       " 'victuals',\n",
       " 'sustenance',\n",
       " 'nourishment',\n",
       " 'nutriment']"
      ]
     },
     "execution_count": 70,
     "metadata": {},
     "output_type": "execute_result"
    }
   ],
   "source": [
    "list(set([w for s in wn.synset('plate.n.08').closure(lambda s:s.hypernyms()) for w in s.lemma_names()]))"
   ]
  },
  {
   "cell_type": "code",
   "execution_count": 61,
   "id": "16443620-33d0-44d6-aae7-c9becfe3d9bf",
   "metadata": {},
   "outputs": [
    {
     "data": {
      "text/plain": [
       "[[Synset('entity.n.01'),\n",
       "  Synset('abstraction.n.06'),\n",
       "  Synset('communication.n.02'),\n",
       "  Synset('signal.n.01'),\n",
       "  Synset('visual_signal.n.01'),\n",
       "  Synset('light.n.14'),\n",
       "  Synset('traffic_light.n.01')]]"
      ]
     },
     "execution_count": 61,
     "metadata": {},
     "output_type": "execute_result"
    }
   ],
   "source": [
    "ss.hypernym_paths()"
   ]
  },
  {
   "cell_type": "code",
   "execution_count": 89,
   "id": "c2c1d35a-f176-4a94-96ea-00b7d2bf6bad",
   "metadata": {},
   "outputs": [
    {
     "data": {
      "text/plain": [
       "[Synset('plant_organ.n.01'),\n",
       " Synset('entity.n.01'),\n",
       " Synset('acorn.n.01'),\n",
       " Synset('reproductive_structure.n.01'),\n",
       " Synset('physical_entity.n.01'),\n",
       " Synset('plant_part.n.01'),\n",
       " Synset('natural_object.n.01'),\n",
       " Synset('object.n.01'),\n",
       " Synset('fruit.n.01'),\n",
       " Synset('whole.n.02')]"
      ]
     },
     "execution_count": 89,
     "metadata": {},
     "output_type": "execute_result"
    }
   ],
   "source": [
    "list(set(chain.from_iterable(wn.synset('acorn.n.01').hypernym_paths())))"
   ]
  },
  {
   "cell_type": "code",
   "execution_count": 91,
   "id": "5cdc4950-87aa-4143-9e4b-0f8dfa6e670f",
   "metadata": {},
   "outputs": [
    {
     "ename": "TypeError",
     "evalue": "unhashable type: 'list'",
     "output_type": "error",
     "traceback": [
      "\u001b[0;31m---------------------------------------------------------------------------\u001b[0m",
      "\u001b[0;31mTypeError\u001b[0m                                 Traceback (most recent call last)",
      "Input \u001b[0;32mIn [91]\u001b[0m, in \u001b[0;36m<module>\u001b[0;34m\u001b[0m\n\u001b[0;32m----> 1\u001b[0m \u001b[38;5;28mlist\u001b[39m(\u001b[38;5;28;43mset\u001b[39;49m\u001b[43m(\u001b[49m\u001b[43mchain\u001b[49m\u001b[38;5;241;43m.\u001b[39;49m\u001b[43mfrom_iterable\u001b[49m\u001b[43m(\u001b[49m\u001b[43m[\u001b[49m\u001b[43mss\u001b[49m\u001b[38;5;241;43m.\u001b[39;49m\u001b[43mhypernym_paths\u001b[49m\u001b[43m(\u001b[49m\u001b[43m)\u001b[49m\u001b[43m \u001b[49m\u001b[38;5;28;43;01mfor\u001b[39;49;00m\u001b[43m \u001b[49m\u001b[43mss\u001b[49m\u001b[43m \u001b[49m\u001b[38;5;129;43;01min\u001b[39;49;00m\u001b[43m \u001b[49m\u001b[43mwn\u001b[49m\u001b[38;5;241;43m.\u001b[39;49m\u001b[43msynsets\u001b[49m\u001b[43m(\u001b[49m\u001b[38;5;124;43m'\u001b[39;49m\u001b[38;5;124;43macorn\u001b[39;49m\u001b[38;5;124;43m'\u001b[39;49m\u001b[43m)\u001b[49m\u001b[43m]\u001b[49m\u001b[43m)\u001b[49m\u001b[43m)\u001b[49m)\n",
      "\u001b[0;31mTypeError\u001b[0m: unhashable type: 'list'"
     ]
    }
   ],
   "source": [
    "list(set(chain.from_iterable([ss.hypernym_paths() for ss in wn.synsets('acorn')])))"
   ]
  },
  {
   "cell_type": "code",
   "execution_count": 92,
   "id": "4870aed3-c4d1-4d5d-889d-c88869b10376",
   "metadata": {},
   "outputs": [
    {
     "data": {
      "text/plain": [
       "[[[Synset('entity.n.01'),\n",
       "   Synset('physical_entity.n.01'),\n",
       "   Synset('object.n.01'),\n",
       "   Synset('whole.n.02'),\n",
       "   Synset('natural_object.n.01'),\n",
       "   Synset('plant_part.n.01'),\n",
       "   Synset('plant_organ.n.01'),\n",
       "   Synset('reproductive_structure.n.01'),\n",
       "   Synset('fruit.n.01'),\n",
       "   Synset('acorn.n.01')]]]"
      ]
     },
     "execution_count": 92,
     "metadata": {},
     "output_type": "execute_result"
    }
   ],
   "source": [
    "[ss.hypernym_paths() for ss in wn.synsets('acorn')]"
   ]
  },
  {
   "cell_type": "code",
   "execution_count": 100,
   "id": "636e30a3-4a21-41ed-b070-176d548d329b",
   "metadata": {},
   "outputs": [
    {
     "data": {
      "text/plain": [
       "[Synset('entity.n.01'),\n",
       " Synset('physical_entity.n.01'),\n",
       " Synset('causal_agent.n.01'),\n",
       " Synset('person.n.01'),\n",
       " Synset('peer.n.01'),\n",
       " Synset('associate.n.01'),\n",
       " Synset('participant.n.01'),\n",
       " Synset('groom.n.01'),\n",
       " Synset('entity.n.01'),\n",
       " Synset('physical_entity.n.01'),\n",
       " Synset('object.n.01'),\n",
       " Synset('whole.n.02'),\n",
       " Synset('living_thing.n.01'),\n",
       " Synset('organism.n.01'),\n",
       " Synset('person.n.01'),\n",
       " Synset('peer.n.01'),\n",
       " Synset('associate.n.01'),\n",
       " Synset('participant.n.01'),\n",
       " Synset('groom.n.01'),\n",
       " Synset('entity.n.01'),\n",
       " Synset('physical_entity.n.01'),\n",
       " Synset('causal_agent.n.01'),\n",
       " Synset('person.n.01'),\n",
       " Synset('worker.n.01'),\n",
       " Synset('employee.n.01'),\n",
       " Synset('workman.n.01'),\n",
       " Synset('laborer.n.01'),\n",
       " Synset('hired_hand.n.01'),\n",
       " Synset('stableman.n.01'),\n",
       " Synset('entity.n.01'),\n",
       " Synset('physical_entity.n.01'),\n",
       " Synset('object.n.01'),\n",
       " Synset('whole.n.02'),\n",
       " Synset('living_thing.n.01'),\n",
       " Synset('organism.n.01'),\n",
       " Synset('person.n.01'),\n",
       " Synset('worker.n.01'),\n",
       " Synset('employee.n.01'),\n",
       " Synset('workman.n.01'),\n",
       " Synset('laborer.n.01'),\n",
       " Synset('hired_hand.n.01'),\n",
       " Synset('stableman.n.01'),\n",
       " Synset('entity.n.01'),\n",
       " Synset('physical_entity.n.01'),\n",
       " Synset('causal_agent.n.01'),\n",
       " Synset('person.n.01'),\n",
       " Synset('domestic_partner.n.01'),\n",
       " Synset('spouse.n.01'),\n",
       " Synset('newlywed.n.01'),\n",
       " Synset('groom.n.03'),\n",
       " Synset('entity.n.01'),\n",
       " Synset('physical_entity.n.01'),\n",
       " Synset('object.n.01'),\n",
       " Synset('whole.n.02'),\n",
       " Synset('living_thing.n.01'),\n",
       " Synset('organism.n.01'),\n",
       " Synset('person.n.01'),\n",
       " Synset('domestic_partner.n.01'),\n",
       " Synset('spouse.n.01'),\n",
       " Synset('newlywed.n.01'),\n",
       " Synset('groom.n.03'),\n",
       " Synset('entity.n.01'),\n",
       " Synset('physical_entity.n.01'),\n",
       " Synset('causal_agent.n.01'),\n",
       " Synset('person.n.01'),\n",
       " Synset('relative.n.01'),\n",
       " Synset('spouse.n.01'),\n",
       " Synset('newlywed.n.01'),\n",
       " Synset('groom.n.03'),\n",
       " Synset('entity.n.01'),\n",
       " Synset('physical_entity.n.01'),\n",
       " Synset('object.n.01'),\n",
       " Synset('whole.n.02'),\n",
       " Synset('living_thing.n.01'),\n",
       " Synset('organism.n.01'),\n",
       " Synset('person.n.01'),\n",
       " Synset('relative.n.01'),\n",
       " Synset('spouse.n.01'),\n",
       " Synset('newlywed.n.01'),\n",
       " Synset('groom.n.03'),\n",
       " Synset('change.v.01'),\n",
       " Synset('better.v.02'),\n",
       " Synset('educate.v.01'),\n",
       " Synset('prepare.v.05'),\n",
       " Synset('change.v.01'),\n",
       " Synset('better.v.02'),\n",
       " Synset('fancify.v.01'),\n",
       " Synset('dress.v.15'),\n",
       " Synset('change.v.01'),\n",
       " Synset('better.v.02'),\n",
       " Synset('fancify.v.01'),\n",
       " Synset('groom.v.03')]"
      ]
     },
     "execution_count": 100,
     "metadata": {},
     "output_type": "execute_result"
    }
   ],
   "source": [
    "list(collapse([ss.hypernym_paths() for ss in wn.synsets('groom')]))"
   ]
  },
  {
   "cell_type": "code",
   "execution_count": 102,
   "id": "b86b8f7d-d4ce-40c8-8502-9b2587a4e8d1",
   "metadata": {},
   "outputs": [
    {
     "data": {
      "text/plain": [
       "[[Synset('entity.n.01'),\n",
       "  Synset('physical_entity.n.01'),\n",
       "  Synset('object.n.01'),\n",
       "  Synset('whole.n.02'),\n",
       "  Synset('natural_object.n.01'),\n",
       "  Synset('plant_part.n.01'),\n",
       "  Synset('plant_organ.n.01'),\n",
       "  Synset('reproductive_structure.n.01'),\n",
       "  Synset('fruit.n.01'),\n",
       "  Synset('seed.n.01'),\n",
       "  Synset('buckeye.n.01')]]"
      ]
     },
     "execution_count": 102,
     "metadata": {},
     "output_type": "execute_result"
    }
   ],
   "source": [
    "wn.synset('buckeye.n.01').hypernym_paths()"
   ]
  },
  {
   "cell_type": "code",
   "execution_count": 108,
   "id": "a7385e40-d224-4cbd-970f-04521a3f2ef4",
   "metadata": {},
   "outputs": [
    {
     "data": {
      "text/plain": [
       "Synset('corn.n.02')"
      ]
     },
     "execution_count": 108,
     "metadata": {},
     "output_type": "execute_result"
    }
   ],
   "source": [
    "wn.synset_from_pos_and_offset('n', 12144580)"
   ]
  },
  {
   "cell_type": "code",
   "execution_count": 106,
   "id": "90ad9d02-c9b3-4ab2-bc90-62cc4df800ae",
   "metadata": {},
   "outputs": [
    {
     "data": {
      "text/plain": [
       "[[Synset('entity.n.01'),\n",
       "  Synset('physical_entity.n.01'),\n",
       "  Synset('object.n.01'),\n",
       "  Synset('whole.n.02'),\n",
       "  Synset('living_thing.n.01'),\n",
       "  Synset('organism.n.01'),\n",
       "  Synset('animal.n.01'),\n",
       "  Synset('chordate.n.01'),\n",
       "  Synset('vertebrate.n.01'),\n",
       "  Synset('aquatic_vertebrate.n.01'),\n",
       "  Synset('fish.n.01'),\n",
       "  Synset('bony_fish.n.01'),\n",
       "  Synset('teleost_fish.n.01'),\n",
       "  Synset('soft-finned_fish.n.01'),\n",
       "  Synset('cypriniform_fish.n.01'),\n",
       "  Synset('cyprinid.n.01'),\n",
       "  Synset('tench.n.01')]]"
      ]
     },
     "execution_count": 106,
     "metadata": {},
     "output_type": "execute_result"
    }
   ],
   "source": [
    "wn.synset_from_pos_and_offset('n', 1440764).hypernym_paths()"
   ]
  },
  {
   "cell_type": "code",
   "execution_count": 109,
   "id": "d6429390-ea9c-4fd5-809e-f084b7c6801e",
   "metadata": {},
   "outputs": [
    {
     "data": {
      "text/plain": [
       "Synset('ear.n.05')"
      ]
     },
     "execution_count": 109,
     "metadata": {},
     "output_type": "execute_result"
    }
   ],
   "source": [
    "wn.synset_from_pos_and_offset('n', 13133613)"
   ]
  },
  {
   "cell_type": "code",
   "execution_count": 110,
   "id": "0f684e95-bbfe-4fd0-9cfe-dc8ffbededb4",
   "metadata": {},
   "outputs": [
    {
     "data": {
      "text/plain": [
       "[[Synset('entity.n.01'),\n",
       "  Synset('physical_entity.n.01'),\n",
       "  Synset('object.n.01'),\n",
       "  Synset('whole.n.02'),\n",
       "  Synset('natural_object.n.01'),\n",
       "  Synset('plant_part.n.01'),\n",
       "  Synset('plant_organ.n.01'),\n",
       "  Synset('reproductive_structure.n.01'),\n",
       "  Synset('fruit.n.01'),\n",
       "  Synset('ear.n.05')]]"
      ]
     },
     "execution_count": 110,
     "metadata": {},
     "output_type": "execute_result"
    }
   ],
   "source": [
    "wn.synset_from_pos_and_offset('n', 13133613).hypernym_paths()"
   ]
  },
  {
   "cell_type": "code",
   "execution_count": 111,
   "id": "87a47e9b-9904-4cd9-b31d-b6aa8ac91f40",
   "metadata": {},
   "outputs": [
    {
     "data": {
      "text/plain": [
       "Synset('ice_lolly.n.01')"
      ]
     },
     "execution_count": 111,
     "metadata": {},
     "output_type": "execute_result"
    }
   ],
   "source": [
    "wn.synset_from_pos_and_offset('n', 7615774)"
   ]
  },
  {
   "cell_type": "code",
   "execution_count": null,
   "id": "e2244983-1243-4482-b615-d6f6a6efd8e0",
   "metadata": {},
   "outputs": [],
   "source": []
  }
 ],
 "metadata": {
  "kernelspec": {
   "display_name": "Python 3 (ipykernel)",
   "language": "python",
   "name": "python3"
  },
  "language_info": {
   "codemirror_mode": {
    "name": "ipython",
    "version": 3
   },
   "file_extension": ".py",
   "mimetype": "text/x-python",
   "name": "python",
   "nbconvert_exporter": "python",
   "pygments_lexer": "ipython3",
   "version": "3.8.13"
  }
 },
 "nbformat": 4,
 "nbformat_minor": 5
}
