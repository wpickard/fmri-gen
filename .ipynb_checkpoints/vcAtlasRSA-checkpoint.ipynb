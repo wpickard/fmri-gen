{
 "cells": [
  {
   "cell_type": "markdown",
   "id": "1c37ab60-0366-4503-b3f0-e79ff43dead8",
   "metadata": {},
   "source": [
    "# vcAtlas RSA"
   ]
  },
  {
   "cell_type": "code",
   "execution_count": 2,
   "id": "40072ba9-dfdb-430a-a52e-b9de923cf7f4",
   "metadata": {},
   "outputs": [],
   "source": [
    "import rsatoolbox\n",
    "import pandas as pd\n",
    "import h5py\n",
    "import numpy as np\n",
    "from pathlib import Path"
   ]
  },
  {
   "cell_type": "code",
   "execution_count": 3,
   "id": "2c852931-6d47-404a-bec5-4bbce52af86a",
   "metadata": {},
   "outputs": [],
   "source": [
    "dataset_v1 = Path('/s/babbage/b/nobackup/nblancha/public-datasets/bold5000')\n",
    "dataset_v2 = Path('/s/babbage/b/nobackup/nblancha/public-datasets/bold5000r2')"
   ]
  },
  {
   "cell_type": "code",
   "execution_count": 27,
   "id": "545d813a-b8ea-4d9e-8275-7d68b9cde275",
   "metadata": {},
   "outputs": [],
   "source": [
    "sub_data = h5py.File(dataset_v2 / 'CSI1_vcAtlas_ROIs.h5')"
   ]
  },
  {
   "cell_type": "code",
   "execution_count": 28,
   "id": "63aceb35-79ab-4e51-8937-15493446a75b",
   "metadata": {},
   "outputs": [
    {
     "data": {
      "text/plain": [
       "<KeysViewHDF5 ['LHFG1', 'LHFG2', 'LHFG3', 'LHFG4', 'LHhOc1', 'LHhOc2', 'LHhOc3v', 'LHhOc4v', 'RHFG1', 'RHFG2', 'RHFG3', 'RHFG4', 'RHhOc1', 'RHhOc2', 'RHhOc3v', 'RHhOc4v']>"
      ]
     },
     "execution_count": 28,
     "metadata": {},
     "output_type": "execute_result"
    }
   ],
   "source": [
    "sub_data.keys()"
   ]
  },
  {
   "cell_type": "code",
   "execution_count": 29,
   "id": "c608abba-f661-4828-8510-c3ec65440b48",
   "metadata": {},
   "outputs": [],
   "source": [
    "# Load dataframe containing image descriptions and presentation order\n",
    "sub_df = pd.read_pickle(dataset_v2 / 'CSI1_dataframe.pkl')\n",
    "# Create descriptors\n",
    "obs_descriptors = {'image': sub_df.image,\n",
    "                   'dataset': sub_df.dataset}"
   ]
  },
  {
   "cell_type": "code",
   "execution_count": 30,
   "id": "b2211a06-5ed9-493d-b7ba-941eb3d06f0a",
   "metadata": {},
   "outputs": [],
   "source": [
    "roi_datasets = []\n",
    "\n",
    "for roi in sub_data.keys():\n",
    "    des = {'roi': roi}\n",
    "    roi_datasets.append(\n",
    "        rsatoolbox.data.Dataset(\n",
    "            sub_data[roi][...],\n",
    "            descriptors = des,\n",
    "            obs_descriptors=obs_descriptors\n",
    "        )\n",
    "    )"
   ]
  },
  {
   "cell_type": "code",
   "execution_count": 31,
   "id": "ef63e6ff-6d4b-4748-a48f-061d26d926fc",
   "metadata": {},
   "outputs": [],
   "source": [
    "roi_rdms = rsatoolbox.rdm.calc_rdm(roi_datasets, descriptor='dataset')"
   ]
  },
  {
   "cell_type": "code",
   "execution_count": 32,
   "id": "a99ddfc4-c1da-4102-92e2-a7f17ccd2cc2",
   "metadata": {},
   "outputs": [
    {
     "data": {
      "text/plain": [
       "(<Figure size 720x720 with 21 Axes>,\n",
       " array([[<AxesSubplot:title={'center':'LHFG1'}>,\n",
       "         <AxesSubplot:title={'center':'LHFG2'}>,\n",
       "         <AxesSubplot:title={'center':'LHFG3'}>,\n",
       "         <AxesSubplot:title={'center':'LHFG4'}>,\n",
       "         <AxesSubplot:title={'center':'LHhOc1'}>],\n",
       "        [<AxesSubplot:title={'center':'LHhOc2'}>,\n",
       "         <AxesSubplot:title={'center':'LHhOc3v'}>,\n",
       "         <AxesSubplot:title={'center':'LHhOc4v'}>,\n",
       "         <AxesSubplot:title={'center':'RHFG1'}>,\n",
       "         <AxesSubplot:title={'center':'RHFG2'}>],\n",
       "        [<AxesSubplot:title={'center':'RHFG3'}>,\n",
       "         <AxesSubplot:title={'center':'RHFG4'}>,\n",
       "         <AxesSubplot:title={'center':'RHhOc1'}>,\n",
       "         <AxesSubplot:title={'center':'RHhOc2'}>,\n",
       "         <AxesSubplot:title={'center':'RHhOc3v'}>],\n",
       "        [<AxesSubplot:title={'center':'RHhOc4v'}>, <AxesSubplot:>,\n",
       "         <AxesSubplot:>, <AxesSubplot:>, <AxesSubplot:>]], dtype=object),\n",
       " defaultdict(dict,\n",
       "             {<AxesSubplot:title={'center':'LHFG1'}>: {'image': <matplotlib.image.AxesImage at 0x7fe3ccb435e0>},\n",
       "              <AxesSubplot:title={'center':'LHFG2'}>: {'image': <matplotlib.image.AxesImage at 0x7fe3ccb55940>},\n",
       "              <AxesSubplot:title={'center':'LHFG3'}>: {'image': <matplotlib.image.AxesImage at 0x7fe3ccae8af0>},\n",
       "              <AxesSubplot:title={'center':'LHFG4'}>: {'image': <matplotlib.image.AxesImage at 0x7fe3ccaf8c10>},\n",
       "              <AxesSubplot:title={'center':'LHhOc1'}>: {'image': <matplotlib.image.AxesImage at 0x7fe3ccb09ca0>},\n",
       "              <AxesSubplot:title={'center':'LHhOc2'}>: {'image': <matplotlib.image.AxesImage at 0x7fe3cca9bca0>},\n",
       "              <AxesSubplot:title={'center':'LHhOc3v'}>: {'image': <matplotlib.image.AxesImage at 0x7fe3ccaacd30>},\n",
       "              <AxesSubplot:title={'center':'LHhOc4v'}>: {'image': <matplotlib.image.AxesImage at 0x7fe3ccabedc0>},\n",
       "              <AxesSubplot:title={'center':'RHFG1'}>: {'image': <matplotlib.image.AxesImage at 0x7fe3ccacee50>},\n",
       "              <AxesSubplot:title={'center':'RHFG2'}>: {'image': <matplotlib.image.AxesImage at 0x7fe3cca61ee0>},\n",
       "              <AxesSubplot:title={'center':'RHFG3'}>: {'image': <matplotlib.image.AxesImage at 0x7fe3ccb09340>},\n",
       "              <AxesSubplot:title={'center':'RHFG4'}>: {'image': <matplotlib.image.AxesImage at 0x7fe3cca7fa60>},\n",
       "              <AxesSubplot:title={'center':'RHhOc1'}>: {'image': <matplotlib.image.AxesImage at 0x7fe3cca92a60>},\n",
       "              <AxesSubplot:title={'center':'RHhOc2'}>: {'image': <matplotlib.image.AxesImage at 0x7fe3cca21af0>},\n",
       "              <AxesSubplot:title={'center':'RHhOc3v'}>: {'image': <matplotlib.image.AxesImage at 0x7fe3cca31100>},\n",
       "              <AxesSubplot:title={'center':'RHhOc4v'}>: {'image': <matplotlib.image.AxesImage at 0x7fe3cca3e520>},\n",
       "              <Figure size 720x720 with 21 Axes>: {'colorbar': <matplotlib.colorbar.Colorbar at 0x7fe3cc9fe6a0>}}))"
      ]
     },
     "execution_count": 32,
     "metadata": {},
     "output_type": "execute_result"
    },
    {
     "data": {
      "image/png": "[encoded data removed]",
      "text/plain": [
       "<Figure size 720x720 with 21 Axes>"
      ]
     },
     "metadata": {
      "needs_background": "light"
     },
     "output_type": "display_data"
    }
   ],
   "source": [
    "rsatoolbox.vis.show_rdm(\n",
    "    roi_rdms, \n",
    "    figsize=(10,10), \n",
    "    rdm_descriptor='roi', \n",
    "    show_colorbar='figure'\n",
    ")"
   ]
  },
  {
   "cell_type": "code",
   "execution_count": 33,
   "id": "3acf7c95-79dc-467e-887f-d541a92bfada",
   "metadata": {},
   "outputs": [],
   "source": [
    "visf_data = h5py.File(dataset_v2 / 'CSI1_visfAtlas_ROIs.h5')"
   ]
  },
  {
   "cell_type": "code",
   "execution_count": 34,
   "id": "66b1b783-7f53-4169-a068-453e36fcc5b8",
   "metadata": {},
   "outputs": [],
   "source": [
    "visf_datasets = []\n",
    "\n",
    "for roi in visf_data.keys():\n",
    "    des = {'roi': roi}\n",
    "    visf_datasets.append(\n",
    "        rsatoolbox.data.Dataset(\n",
    "            visf_data[roi][...],\n",
    "            descriptors = des,\n",
    "            obs_descriptors = obs_descriptors\n",
    "        )\n",
    "    )"
   ]
  },
  {
   "cell_type": "code",
   "execution_count": 35,
   "id": "cac58af8-27dc-4810-83ef-d56086bf3249",
   "metadata": {},
   "outputs": [
    {
     "name": "stdout",
     "output_type": "stream",
     "text": [
      "ROI: LHCoS-places Num NaNs: 0\n",
      "ROI: LHIOG-faces Num NaNs: 0\n",
      "ROI: LHIOS-characters Num NaNs: 0\n",
      "ROI: LHITG-bodies Num NaNs: 0\n",
      "ROI: LHLOS-bodies Num NaNs: 0\n",
      "ROI: LHMTG-bodies Num NaNs: 0\n",
      "ROI: LHOTS-bodies Num NaNs: 0\n",
      "ROI: LHhMT Num NaNs: 0\n",
      "ROI: LHmFus-faces Num NaNs: 0\n",
      "ROI: LHpFus-faces Num NaNs: 0\n",
      "ROI: LHpOTS-characters Num NaNs: 0\n",
      "ROI: LHv1d Num NaNs: 0\n",
      "ROI: LHv1v Num NaNs: 0\n",
      "ROI: LHv2d Num NaNs: 0\n",
      "ROI: LHv2v Num NaNs: 0\n",
      "ROI: LHv3d Num NaNs: 0\n",
      "ROI: LHv3v Num NaNs: 0\n",
      "ROI: RHCoS-places Num NaNs: 0\n",
      "ROI: RHIOG-faces Num NaNs: 0\n",
      "ROI: RHITG-bodies Num NaNs: 0\n",
      "ROI: RHLOS-bodies Num NaNs: 0\n",
      "ROI: RHMTG-bodies Num NaNs: 0\n",
      "ROI: RHOTS-bodies Num NaNs: 0\n",
      "ROI: RHTOS-places Num NaNs: 0\n",
      "ROI: RHhMT Num NaNs: 0\n",
      "ROI: RHmFus-faces Num NaNs: 0\n",
      "ROI: RHpFus-faces Num NaNs: 0\n",
      "ROI: RHv1d Num NaNs: 0\n",
      "ROI: RHv1v Num NaNs: 0\n",
      "ROI: RHv2d Num NaNs: 0\n",
      "ROI: RHv2v Num NaNs: 0\n",
      "ROI: RHv3d Num NaNs: 0\n",
      "ROI: RHv3v Num NaNs: 0\n"
     ]
    }
   ],
   "source": [
    "for roi in visf_data.keys():\n",
    "    num_nans = np.count_nonzero(np.isnan(visf_data[roi]))\n",
    "    print(f'ROI: {roi} Num NaNs: {num_nans}')"
   ]
  },
  {
   "cell_type": "code",
   "execution_count": 36,
   "id": "2670f2d7-5915-4be9-b31b-aac2236c721d",
   "metadata": {},
   "outputs": [],
   "source": [
    "roi_rdms = rsatoolbox.rdm.calc_rdm(visf_datasets, descriptor='dataset')"
   ]
  },
  {
   "cell_type": "code",
   "execution_count": 37,
   "id": "73cc0d5b-fb05-4267-accf-60af8b34c6b7",
   "metadata": {},
   "outputs": [
    {
     "data": {
      "text/plain": [
       "(<Figure size 720x720 with 37 Axes>,\n",
       " array([[<AxesSubplot:title={'center':'LHCoS-places'}>,\n",
       "         <AxesSubplot:title={'center':'LHIOG-faces'}>,\n",
       "         <AxesSubplot:title={'center':'LHIOS-characters'}>,\n",
       "         <AxesSubplot:title={'center':'LHITG-bodies'}>,\n",
       "         <AxesSubplot:title={'center':'LHLOS-bodies'}>,\n",
       "         <AxesSubplot:title={'center':'LHMTG-bodies'}>],\n",
       "        [<AxesSubplot:title={'center':'LHOTS-bodies'}>,\n",
       "         <AxesSubplot:title={'center':'LHhMT'}>,\n",
       "         <AxesSubplot:title={'center':'LHmFus-faces'}>,\n",
       "         <AxesSubplot:title={'center':'LHpFus-faces'}>,\n",
       "         <AxesSubplot:title={'center':'LHpOTS-characters'}>,\n",
       "         <AxesSubplot:title={'center':'LHv1d'}>],\n",
       "        [<AxesSubplot:title={'center':'LHv1v'}>,\n",
       "         <AxesSubplot:title={'center':'LHv2d'}>,\n",
       "         <AxesSubplot:title={'center':'LHv2v'}>,\n",
       "         <AxesSubplot:title={'center':'LHv3d'}>,\n",
       "         <AxesSubplot:title={'center':'LHv3v'}>,\n",
       "         <AxesSubplot:title={'center':'RHCoS-places'}>],\n",
       "        [<AxesSubplot:title={'center':'RHIOG-faces'}>,\n",
       "         <AxesSubplot:title={'center':'RHITG-bodies'}>,\n",
       "         <AxesSubplot:title={'center':'RHLOS-bodies'}>,\n",
       "         <AxesSubplot:title={'center':'RHMTG-bodies'}>,\n",
       "         <AxesSubplot:title={'center':'RHOTS-bodies'}>,\n",
       "         <AxesSubplot:title={'center':'RHTOS-places'}>],\n",
       "        [<AxesSubplot:title={'center':'RHhMT'}>,\n",
       "         <AxesSubplot:title={'center':'RHmFus-faces'}>,\n",
       "         <AxesSubplot:title={'center':'RHpFus-faces'}>,\n",
       "         <AxesSubplot:title={'center':'RHv1d'}>,\n",
       "         <AxesSubplot:title={'center':'RHv1v'}>,\n",
       "         <AxesSubplot:title={'center':'RHv2d'}>],\n",
       "        [<AxesSubplot:title={'center':'RHv2v'}>,\n",
       "         <AxesSubplot:title={'center':'RHv3d'}>,\n",
       "         <AxesSubplot:title={'center':'RHv3v'}>, <AxesSubplot:>,\n",
       "         <AxesSubplot:>, <AxesSubplot:>]], dtype=object),\n",
       " defaultdict(dict,\n",
       "             {<AxesSubplot:title={'center':'LHCoS-places'}>: {'image': <matplotlib.image.AxesImage at 0x7fe3cc1ba820>},\n",
       "              <AxesSubplot:title={'center':'LHIOG-faces'}>: {'image': <matplotlib.image.AxesImage at 0x7fe3cc1d6160>},\n",
       "              <AxesSubplot:title={'center':'LHIOS-characters'}>: {'image': <matplotlib.image.AxesImage at 0x7fe3cc166040>},\n",
       "              <AxesSubplot:title={'center':'LHITG-bodies'}>: {'image': <matplotlib.image.AxesImage at 0x7fe3cc16fee0>},\n",
       "              <AxesSubplot:title={'center':'LHLOS-bodies'}>: {'image': <matplotlib.image.AxesImage at 0x7fe3cc183dc0>},\n",
       "              <AxesSubplot:title={'center':'LHMTG-bodies'}>: {'image': <matplotlib.image.AxesImage at 0x7fe3cc196940>},\n",
       "              <AxesSubplot:title={'center':'LHOTS-bodies'}>: {'image': <matplotlib.image.AxesImage at 0x7fe3cc126820>},\n",
       "              <AxesSubplot:title={'center':'LHhMT'}>: {'image': <matplotlib.image.AxesImage at 0x7fe3cc13a700>},\n",
       "              <AxesSubplot:title={'center':'LHmFus-faces'}>: {'image': <matplotlib.image.AxesImage at 0x7fe3cc145c40>},\n",
       "              <AxesSubplot:title={'center':'LHpFus-faces'}>: {'image': <matplotlib.image.AxesImage at 0x7fe3cc156b20>},\n",
       "              <AxesSubplot:title={'center':'LHpOTS-characters'}>: {'image': <matplotlib.image.AxesImage at 0x7fe3cc0e7af0>},\n",
       "              <AxesSubplot:title={'center':'LHv1d'}>: {'image': <matplotlib.image.AxesImage at 0x7fe3cc0fa910>},\n",
       "              <AxesSubplot:title={'center':'LHv1v'}>: {'image': <matplotlib.image.AxesImage at 0x7fe3cc0ff940>},\n",
       "              <AxesSubplot:title={'center':'LHv2d'}>: {'image': <matplotlib.image.AxesImage at 0x7fe3cc1178b0>},\n",
       "              <AxesSubplot:title={'center':'LHv2v'}>: {'image': <matplotlib.image.AxesImage at 0x7fe3cc0a9610>},\n",
       "              <AxesSubplot:title={'center':'LHv3d'}>: {'image': <matplotlib.image.AxesImage at 0x7fe3cc0bc310>},\n",
       "              <AxesSubplot:title={'center':'LHv3v'}>: {'image': <matplotlib.image.AxesImage at 0x7fe3cc0cc0d0>},\n",
       "              <AxesSubplot:title={'center':'RHCoS-places'}>: {'image': <matplotlib.image.AxesImage at 0x7fe3cc0d3f40>},\n",
       "              <AxesSubplot:title={'center':'RHIOG-faces'}>: {'image': <matplotlib.image.AxesImage at 0x7fe3cc066a60>},\n",
       "              <AxesSubplot:title={'center':'RHITG-bodies'}>: {'image': <matplotlib.image.AxesImage at 0x7fe3cc0775b0>},\n",
       "              <AxesSubplot:title={'center':'RHLOS-bodies'}>: {'image': <matplotlib.image.AxesImage at 0x7fe3cc01b160>},\n",
       "              <AxesSubplot:title={'center':'RHMTG-bodies'}>: {'image': <matplotlib.image.AxesImage at 0x7fe3cc02e1f0>},\n",
       "              <AxesSubplot:title={'center':'RHOTS-bodies'}>: {'image': <matplotlib.image.AxesImage at 0x7fe3cc040280>},\n",
       "              <AxesSubplot:title={'center':'RHTOS-places'}>: {'image': <matplotlib.image.AxesImage at 0x7fe3cc04f430>},\n",
       "              <AxesSubplot:title={'center':'RHhMT'}>: {'image': <matplotlib.image.AxesImage at 0x7fe3cbfe15e0>},\n",
       "              <AxesSubplot:title={'center':'RHmFus-faces'}>: {'image': <matplotlib.image.AxesImage at 0x7fe3cbff6670>},\n",
       "              <AxesSubplot:title={'center':'RHpFus-faces'}>: {'image': <matplotlib.image.AxesImage at 0x7fe3cc006820>},\n",
       "              <AxesSubplot:title={'center':'RHv1d'}>: {'image': <matplotlib.image.AxesImage at 0x7fe3cc0189d0>},\n",
       "              <AxesSubplot:title={'center':'RHv1v'}>: {'image': <matplotlib.image.AxesImage at 0x7fe3cbfa2c10>},\n",
       "              <AxesSubplot:title={'center':'RHv2d'}>: {'image': <matplotlib.image.AxesImage at 0x7fe3cbfb8c10>},\n",
       "              <AxesSubplot:title={'center':'RHv2v'}>: {'image': <matplotlib.image.AxesImage at 0x7fe3cbfc7c10>},\n",
       "              <AxesSubplot:title={'center':'RHv3d'}>: {'image': <matplotlib.image.AxesImage at 0x7fe3cbf5ad30>},\n",
       "              <AxesSubplot:title={'center':'RHv3v'}>: {'image': <matplotlib.image.AxesImage at 0x7fe3cbf6bee0>},\n",
       "              <Figure size 720x720 with 37 Axes>: {'colorbar': <matplotlib.colorbar.Colorbar at 0x7fe3cbf1dfa0>}}))"
      ]
     },
     "execution_count": 37,
     "metadata": {},
     "output_type": "execute_result"
    },
    {
     "data": {
      "image/png": "[encoded data removed]",
      "text/plain": [
       "<Figure size 720x720 with 37 Axes>"
      ]
     },
     "metadata": {
      "needs_background": "light"
     },
     "output_type": "display_data"
    }
   ],
   "source": [
    "rsatoolbox.vis.show_rdm(\n",
    "    roi_rdms, \n",
    "    figsize=(10,10), \n",
    "    rdm_descriptor='roi', \n",
    "    show_colorbar='figure'\n",
    ")"
   ]
  },
  {
   "cell_type": "code",
   "execution_count": 38,
   "id": "9e4e21e0-115f-427f-b798-93b389b7d98e",
   "metadata": {},
   "outputs": [],
   "source": [
    "orig_data = h5py.File(dataset_v2 / 'CSI1_ROIs.h5')\n",
    "orig_datasets = []\n",
    "\n",
    "for roi in orig_data.keys():\n",
    "    des = {'roi': roi}\n",
    "    orig_datasets.append(\n",
    "        rsatoolbox.data.Dataset(\n",
    "            orig_data[roi][...],\n",
    "            descriptors = des,\n",
    "            obs_descriptors = obs_descriptors\n",
    "        )\n",
    "    )"
   ]
  },
  {
   "cell_type": "code",
   "execution_count": 39,
   "id": "6dfd42dd-48af-4323-ab02-58bc23abc649",
   "metadata": {},
   "outputs": [],
   "source": [
    "orig_rdms = rsatoolbox.rdm.calc_rdm(orig_datasets, descriptor='dataset')"
   ]
  },
  {
   "cell_type": "code",
   "execution_count": 40,
   "id": "bc1cb906-59b5-44a7-becc-427206388ff1",
   "metadata": {},
   "outputs": [
    {
     "data": {
      "text/plain": [
       "(<Figure size 720x720 with 13 Axes>,\n",
       " array([[<AxesSubplot:title={'center':'LHEarlyVis'}>,\n",
       "         <AxesSubplot:title={'center':'LHLOC'}>,\n",
       "         <AxesSubplot:title={'center':'LHOPA'}>,\n",
       "         <AxesSubplot:title={'center':'LHPPA'}>],\n",
       "        [<AxesSubplot:title={'center':'LHRSC'}>,\n",
       "         <AxesSubplot:title={'center':'RHEarlyVis'}>,\n",
       "         <AxesSubplot:title={'center':'RHLOC'}>,\n",
       "         <AxesSubplot:title={'center':'RHOPA'}>],\n",
       "        [<AxesSubplot:title={'center':'RHPPA'}>,\n",
       "         <AxesSubplot:title={'center':'RHRSC'}>, <AxesSubplot:>,\n",
       "         <AxesSubplot:>]], dtype=object),\n",
       " defaultdict(dict,\n",
       "             {<AxesSubplot:title={'center':'LHEarlyVis'}>: {'image': <matplotlib.image.AxesImage at 0x7fe3cbc299a0>},\n",
       "              <AxesSubplot:title={'center':'LHLOC'}>: {'image': <matplotlib.image.AxesImage at 0x7fe3cbc46130>},\n",
       "              <AxesSubplot:title={'center':'LHOPA'}>: {'image': <matplotlib.image.AxesImage at 0x7fe3cbc581c0>},\n",
       "              <AxesSubplot:title={'center':'LHPPA'}>: {'image': <matplotlib.image.AxesImage at 0x7fe3cbbe91c0>},\n",
       "              <AxesSubplot:title={'center':'LHRSC'}>: {'image': <matplotlib.image.AxesImage at 0x7fe3cbbf0640>},\n",
       "              <AxesSubplot:title={'center':'RHEarlyVis'}>: {'image': <matplotlib.image.AxesImage at 0x7fe3cbc055b0>},\n",
       "              <AxesSubplot:title={'center':'RHLOC'}>: {'image': <matplotlib.image.AxesImage at 0x7fe3cbc16640>},\n",
       "              <AxesSubplot:title={'center':'RHOPA'}>: {'image': <matplotlib.image.AxesImage at 0x7fe3cbba76d0>},\n",
       "              <AxesSubplot:title={'center':'RHPPA'}>: {'image': <matplotlib.image.AxesImage at 0x7fe3cbbb9760>},\n",
       "              <AxesSubplot:title={'center':'RHRSC'}>: {'image': <matplotlib.image.AxesImage at 0x7fe3cbbca7f0>},\n",
       "              <Figure size 720x720 with 13 Axes>: {'colorbar': <matplotlib.colorbar.Colorbar at 0x7fe3cbb7ebe0>}}))"
      ]
     },
     "execution_count": 40,
     "metadata": {},
     "output_type": "execute_result"
    },
    {
     "data": {
      "image/png": "[encoded data removed]",
      "text/plain": [
       "<Figure size 720x720 with 13 Axes>"
      ]
     },
     "metadata": {
      "needs_background": "light"
     },
     "output_type": "display_data"
    }
   ],
   "source": [
    "rsatoolbox.vis.show_rdm(\n",
    "    orig_rdms, \n",
    "    figsize=(10,10), \n",
    "    rdm_descriptor='roi', \n",
    "    show_colorbar='figure'\n",
    ")"
   ]
  },
  {
   "cell_type": "code",
   "execution_count": 41,
   "id": "a761e400-2f86-4c92-9566-f0c16051d998",
   "metadata": {},
   "outputs": [
    {
     "data": {
      "text/plain": [
       "rsatoolbox.rdm.RDMs(\n",
       "dissimilarity_measure = \n",
       "squared euclidean\n",
       "dissimilarities = \n",
       "[[0.00651782 0.03620363 0.02919478]\n",
       " [0.01373821 0.06427551 0.10267796]\n",
       " [0.02449285 0.13580348 0.25111646]\n",
       " [0.01111806 0.10244821 0.15780384]\n",
       " [0.02042758 0.14587144 0.27029526]\n",
       " [0.00428198 0.03066504 0.03746494]\n",
       " [0.02440042 0.06085627 0.0999112 ]\n",
       " [0.04044574 0.05776315 0.13850375]\n",
       " [0.01123894 0.12817189 0.18341574]\n",
       " [0.04219625 0.18853339 0.39573738]]\n",
       "descriptors = \n",
       "{}\n",
       "rdm_descriptors = \n",
       "{'index': [0, 1, 2, 3, 4, 5, 6, 7, 8, 9], 'roi': ['LHEarlyVis', 'LHLOC', 'LHOPA', 'LHPPA', 'LHRSC', 'RHEarlyVis', 'RHLOC', 'RHOPA', 'RHPPA', 'RHRSC']}\n",
       "pattern_descriptors = \n",
       "{'dataset': ['COCO', 'ImageNet', 'Scene'], 'index': [0, 1, 2]}"
      ]
     },
     "execution_count": 41,
     "metadata": {},
     "output_type": "execute_result"
    }
   ],
   "source": [
    "orig_rdms"
   ]
  },
  {
   "cell_type": "code",
   "execution_count": 43,
   "id": "9042d456-ae2f-4a28-a3e2-ff117cb3d6d2",
   "metadata": {},
   "outputs": [
    {
     "data": {
      "text/plain": [
       "(<Figure size 720x720 with 13 Axes>,\n",
       " array([[<AxesSubplot:title={'center':'LHEarlyVis'}>,\n",
       "         <AxesSubplot:title={'center':'LHLOC'}>,\n",
       "         <AxesSubplot:title={'center':'LHOPA'}>,\n",
       "         <AxesSubplot:title={'center':'LHPPA'}>],\n",
       "        [<AxesSubplot:title={'center':'LHRSC'}>,\n",
       "         <AxesSubplot:title={'center':'RHEarlyVis'}>,\n",
       "         <AxesSubplot:title={'center':'RHLOC'}>,\n",
       "         <AxesSubplot:title={'center':'RHOPA'}>],\n",
       "        [<AxesSubplot:title={'center':'RHPPA'}>,\n",
       "         <AxesSubplot:title={'center':'RHRSC'}>, <AxesSubplot:>,\n",
       "         <AxesSubplot:>]], dtype=object),\n",
       " defaultdict(dict,\n",
       "             {<AxesSubplot:title={'center':'LHEarlyVis'}>: {'image': <matplotlib.image.AxesImage at 0x7fe3cb867310>,\n",
       "               'y_labels': [Text(0, 0, 'COCO'),\n",
       "                Text(0, 1, 'ImageNet'),\n",
       "                Text(0, 2, 'Scene')],\n",
       "               'x_labels': [Text(0, 0, 'COCO'),\n",
       "                Text(1, 0, 'ImageNet'),\n",
       "                Text(2, 0, 'Scene')]},\n",
       "              <AxesSubplot:title={'center':'LHLOC'}>: {'image': <matplotlib.image.AxesImage at 0x7fe3cb880490>,\n",
       "               'x_labels': [Text(0, 0, 'COCO'),\n",
       "                Text(1, 0, 'ImageNet'),\n",
       "                Text(2, 0, 'Scene')]},\n",
       "              <AxesSubplot:title={'center':'LHOPA'}>: {'image': <matplotlib.image.AxesImage at 0x7fe3cb88bf40>,\n",
       "               'x_labels': [Text(0, 0, 'COCO'),\n",
       "                Text(1, 0, 'ImageNet'),\n",
       "                Text(2, 0, 'Scene')]},\n",
       "              <AxesSubplot:title={'center':'LHPPA'}>: {'image': <matplotlib.image.AxesImage at 0x7fe3cb822130>,\n",
       "               'x_labels': [Text(0, 0, 'COCO'),\n",
       "                Text(1, 0, 'ImageNet'),\n",
       "                Text(2, 0, 'Scene')]},\n",
       "              <AxesSubplot:title={'center':'LHRSC'}>: {'image': <matplotlib.image.AxesImage at 0x7fe3cb833370>,\n",
       "               'y_labels': [Text(0, 0, 'COCO'),\n",
       "                Text(0, 1, 'ImageNet'),\n",
       "                Text(0, 2, 'Scene')]},\n",
       "              <AxesSubplot:title={'center':'RHEarlyVis'}>: {'image': <matplotlib.image.AxesImage at 0x7fe3cb843610>},\n",
       "              <AxesSubplot:title={'center':'RHLOC'}>: {'image': <matplotlib.image.AxesImage at 0x7fe3cb853310>},\n",
       "              <AxesSubplot:title={'center':'RHOPA'}>: {'image': <matplotlib.image.AxesImage at 0x7fe3cb7e33a0>},\n",
       "              <AxesSubplot:title={'center':'RHPPA'}>: {'image': <matplotlib.image.AxesImage at 0x7fe3cb7f53a0>,\n",
       "               'y_labels': [Text(0, 0, 'COCO'),\n",
       "                Text(0, 1, 'ImageNet'),\n",
       "                Text(0, 2, 'Scene')]},\n",
       "              <AxesSubplot:title={'center':'RHRSC'}>: {'image': <matplotlib.image.AxesImage at 0x7fe3cb806970>},\n",
       "              <Figure size 720x720 with 13 Axes>: {'colorbar': <matplotlib.colorbar.Colorbar at 0x7fe3cb7ba9d0>}}))"
      ]
     },
     "execution_count": 43,
     "metadata": {},
     "output_type": "execute_result"
    },
    {
     "data": {
      "image/png": "[encoded data removed]",
      "text/plain": [
       "<Figure size 720x720 with 13 Axes>"
      ]
     },
     "metadata": {
      "needs_background": "light"
     },
     "output_type": "display_data"
    }
   ],
   "source": [
    "rsatoolbox.vis.show_rdm(\n",
    "    orig_rdms, \n",
    "    figsize=(10,10), \n",
    "    rdm_descriptor='roi', \n",
    "    pattern_descriptor='dataset',\n",
    "    show_colorbar='figure'\n",
    ")"
   ]
  },
  {
   "cell_type": "code",
   "execution_count": 44,
   "id": "59aceb28-d70d-407b-94c7-96614c0cd746",
   "metadata": {},
   "outputs": [
    {
     "data": {
      "text/plain": [
       "rsatoolbox.data.Dataset(\n",
       "measurements = \n",
       "[[ 0.16727138  1.17337756 -0.4828296  ...  0.65440274  1.27738037\n",
       "   0.7152169 ]\n",
       " [ 1.25898385  0.74470426  0.26411658 ...  1.51455217  0.7449799\n",
       "   0.88225062]\n",
       " [ 0.27966641 -0.164892   -0.55047351 ... -0.11178005 -1.35995149\n",
       "  -1.12590893]\n",
       " ...\n",
       " [-2.38013426 -0.41993786 -0.15568629 ...  0.85117432  1.00238051\n",
       "   0.66673289]\n",
       " [-1.42582401 -0.01796943 -0.50758292 ...  0.69276514  1.04057688\n",
       "   1.09643519]\n",
       " [-2.39909554  0.37309118  0.59220543 ...  0.6982572   0.04399473\n",
       "  -0.03115802]]\n",
       "descriptors = \n",
       "{'roi': 'LHEarlyVis'}\n",
       "obs_descriptors = \n",
       "{'image': 0                  n01930112_19568.JPEG\n",
       "1                  n03733281_29214.JPEG\n",
       "2                   n07695742_5848.JPEG\n",
       "3       COCO_train2014_000000420713.jpg\n",
       "4       COCO_train2014_000000488558.jpg\n",
       "                     ...               \n",
       "5249               n03459775_11670.JPEG\n",
       "5250    COCO_train2014_000000523236.jpg\n",
       "5251                      dinosaur4.jpg\n",
       "5252    COCO_train2014_000000244132.jpg\n",
       "5253    COCO_train2014_000000292845.jpg\n",
       "Name: image, Length: 5254, dtype: object, 'dataset': 0       ImageNet\n",
       "1       ImageNet\n",
       "2       ImageNet\n",
       "3           COCO\n",
       "4           COCO\n",
       "          ...   \n",
       "5249    ImageNet\n",
       "5250        COCO\n",
       "5251       Scene\n",
       "5252        COCO\n",
       "5253        COCO\n",
       "Name: dataset, Length: 5254, dtype: object}\n",
       "channel_descriptors = \n",
       "{}"
      ]
     },
     "execution_count": 44,
     "metadata": {},
     "output_type": "execute_result"
    }
   ],
   "source": [
    "orig_datasets[0]"
   ]
  },
  {
   "cell_type": "code",
   "execution_count": 45,
   "id": "a64f7238-efa2-43d7-8e42-7f05b3a5eab3",
   "metadata": {},
   "outputs": [
    {
     "data": {
      "text/plain": [
       "{'dataset': ['COCO', 'ImageNet', 'Scene'], 'index': [0, 1, 2]}"
      ]
     },
     "execution_count": 45,
     "metadata": {},
     "output_type": "execute_result"
    }
   ],
   "source": [
    "orig_rdms.pattern_descriptors"
   ]
  },
  {
   "cell_type": "code",
   "execution_count": 46,
   "id": "59576019-ff60-4abe-a526-2a44bc67a3c8",
   "metadata": {},
   "outputs": [
    {
     "ename": "IndexError",
     "evalue": "list index out of range",
     "output_type": "error",
     "traceback": [
      "\u001b[0;31m---------------------------------------------------------------------------\u001b[0m",
      "\u001b[0;31mIndexError\u001b[0m                                Traceback (most recent call last)",
      "Input \u001b[0;32mIn [46]\u001b[0m, in \u001b[0;36m<module>\u001b[0;34m\u001b[0m\n\u001b[0;32m----> 1\u001b[0m \u001b[43morig_datasets\u001b[49m\u001b[43m[\u001b[49m\u001b[38;5;241;43m0\u001b[39;49m\u001b[43m]\u001b[49m\u001b[38;5;241;43m.\u001b[39;49m\u001b[43mto_df\u001b[49m\u001b[43m(\u001b[49m\u001b[43m)\u001b[49m\n",
      "File \u001b[0;32m/s/babbage/b/nobackup/nblancha/merry/conda/envs/fmri-gen/lib/python3.8/site-packages/rsatoolbox/data/dataset.py:250\u001b[0m, in \u001b[0;36mDatasetBase.to_df\u001b[0;34m(self, channel_descriptor)\u001b[0m\n\u001b[1;32m    233\u001b[0m \u001b[38;5;28;01mdef\u001b[39;00m \u001b[38;5;21mto_df\u001b[39m(\u001b[38;5;28mself\u001b[39m, channel_descriptor: Optional[\u001b[38;5;28mstr\u001b[39m]\u001b[38;5;241m=\u001b[39m\u001b[38;5;28;01mNone\u001b[39;00m) \u001b[38;5;241m-\u001b[39m\u001b[38;5;241m>\u001b[39m DataFrame:\n\u001b[1;32m    234\u001b[0m     \u001b[38;5;124;03m\"\"\"returns a Pandas DataFrame representing this Dataset\u001b[39;00m\n\u001b[1;32m    235\u001b[0m \n\u001b[1;32m    236\u001b[0m \u001b[38;5;124;03m    Channels, observation descriptors and Dataset descriptors make up the\u001b[39;00m\n\u001b[0;32m   (...)\u001b[0m\n\u001b[1;32m    248\u001b[0m \u001b[38;5;124;03m        DataFrame: A pandas DataFrame representing the Dataset\u001b[39;00m\n\u001b[1;32m    249\u001b[0m \u001b[38;5;124;03m    \"\"\"\u001b[39;00m\n\u001b[0;32m--> 250\u001b[0m     desc \u001b[38;5;241m=\u001b[39m channel_descriptor \u001b[38;5;129;01mor\u001b[39;00m \u001b[38;5;28;43mlist\u001b[39;49m\u001b[43m(\u001b[49m\u001b[38;5;28;43mself\u001b[39;49m\u001b[38;5;241;43m.\u001b[39;49m\u001b[43mchannel_descriptors\u001b[49m\u001b[38;5;241;43m.\u001b[39;49m\u001b[43mkeys\u001b[49m\u001b[43m(\u001b[49m\u001b[43m)\u001b[49m\u001b[43m)\u001b[49m\u001b[43m[\u001b[49m\u001b[38;5;241;43m0\u001b[39;49m\u001b[43m]\u001b[49m\n\u001b[1;32m    251\u001b[0m     ch_names \u001b[38;5;241m=\u001b[39m \u001b[38;5;28mself\u001b[39m\u001b[38;5;241m.\u001b[39mchannel_descriptors[desc]\n\u001b[1;32m    252\u001b[0m     df \u001b[38;5;241m=\u001b[39m DataFrame(\u001b[38;5;28mself\u001b[39m\u001b[38;5;241m.\u001b[39mmeasurements, columns\u001b[38;5;241m=\u001b[39mch_names)\n",
      "\u001b[0;31mIndexError\u001b[0m: list index out of range"
     ]
    }
   ],
   "source": [
    "orig_datasets[0].to_df()"
   ]
  },
  {
   "cell_type": "code",
   "execution_count": null,
   "id": "2761629f-36fd-4222-9ac0-d57a3616cf84",
   "metadata": {},
   "outputs": [],
   "source": []
  }
 ],
 "metadata": {
  "kernelspec": {
   "display_name": "Python 3 (ipykernel)",
   "language": "python",
   "name": "python3"
  },
  "language_info": {
   "codemirror_mode": {
    "name": "ipython",
    "version": 3
   },
   "file_extension": ".py",
   "mimetype": "text/x-python",
   "name": "python",
   "nbconvert_exporter": "python",
   "pygments_lexer": "ipython3",
   "version": "3.8.12"
  }
 },
 "nbformat": 4,
 "nbformat_minor": 5
}
