{
  "nbformat": 4,
  "nbformat_minor": 0,
  "metadata": {
    "colab": {
      "name": "net2brain.ipynb",
      "provenance": [],
      "collapsed_sections": []
    },
    "kernelspec": {
      "name": "python3",
      "display_name": "Python 3"
    },
    "language_info": {
      "name": "python"
    },
    "accelerator": "GPU"
  },
  "cells": [
    {
      "cell_type": "markdown",
      "metadata": {
        "id": "eZaCjSWyTVos"
      },
      "source": [
        "# **Step one:**\n",
        "\n",
        "The first step is to clone the Repository. As it is still private for now, you have to enter your username and password into the link below."
      ]
    },
    {
      "cell_type": "code",
      "metadata": {
        "id": "pxIGgh_6TLCs"
      },
      "source": [
        "%cd /content/\n",
        "#First clone my Repo\n",
        "!git clone https://github.com/ToastyDom/Net2Brain.git"
      ],
      "execution_count": null,
      "outputs": []
    },
    {
      "cell_type": "markdown",
      "metadata": {
        "id": "Zs6_FNCbTfDD"
      },
      "source": [
        "# **Step two:**\n",
        "\n",
        "Install the dependencies below:\n"
      ]
    },
    {
      "cell_type": "code",
      "metadata": {
        "id": "E0X1cv6fThmK"
      },
      "source": [
        "# FOR TASKONOMY\n",
        "!pip install visualpriors\n",
        "\n",
        "# FOR CORNET\n",
        "!pip install git+https://github.com/dicarlolab/CORnet\n",
        "\n",
        "#FOR CLIP\n",
        "!pip install ftfy regex tqdm\n",
        "!pip install git+https://github.com/openai/CLIP.git\n",
        "\n",
        "\n",
        "#FOR VISSL\n",
        "!git clone --recursive https://github.com/facebookresearch/vissl.git\n",
        "%cd vissl/\n",
        "!git checkout v0.1.6\n",
        "!git checkout -b v0.1.6\n",
        "!pip install --progress-bar off -r requirements.txt\n",
        "!pip install opencv-python\n",
        "!pip uninstall -y classy_vision\n",
        "!pip install classy-vision@https://github.com/facebookresearch/ClassyVision/tarball/4785d5ee19d3bcedd5b28c1eb51ea1f59188b54d\n",
        "!pip uninstall -y fairscale\n",
        "!pip install fairscale@https://github.com/facebookresearch/fairscale/tarball/df7db85cef7f9c30a5b821007754b96eb1f977b6\n",
        "!pip install -e .[dev]\n",
        "\n",
        "# FOR TIMM\n",
        "!pip install timm\n",
        "\n",
        "# FOR DETECTRON\n",
        "!pip install pyyaml==5.1\n",
        "!pip uninstall torch -y\n",
        "!pip uninstall torchvision -y\n",
        "!pip install torch==1.10.1+cu111 torchvision==0.11.2+cu111 -f https://download.pytorch.org/whl/torch_stable.html\n",
        "import torch\n",
        "TORCH_VERSION = \".\".join(torch.__version__.split(\".\")[:2])\n",
        "CUDA_VERSION = torch.__version__.split(\"+\")[-1]\n",
        "!pip install detectron2 -f https://dl.fbaipublicfiles.com/detectron2/wheels/$CUDA_VERSION/torch$TORCH_VERSION/index.html\n",
        "\n",
        "# FOR VIDEOMODELS\n",
        "!pip install pytorchvideo\n",
        "\n",
        "#other packages\n",
        "!pip install torchextractor\n",
        "!pip install opencv-python\n",
        "!pip install rsatoolbox\n"
      ],
      "execution_count": null,
      "outputs": []
    },
    {
      "cell_type": "markdown",
      "metadata": {
        "id": "qSiPkmI1Tk9j"
      },
      "source": [
        "These dependencies enable the usage of the models:\n",
        "\n",
        "\n",
        "* Standard (54)\n",
        "* timm (426)\n",
        "* pytorch (6)\n",
        "* unet (1)\n",
        "* taskonomy (23)\n",
        "* pyvideo (6)\n",
        "* detectron2 (50)\n",
        "* vissl (28)\n",
        "* clip (5)\n",
        "* cornet (3)\n",
        "\n",
        "\n",
        "\n",
        "\n"
      ]
    },
    {
      "cell_type": "markdown",
      "metadata": {
        "id": "MGlMSZ8DU5vj"
      },
      "source": [
        "# **Step three:**\n",
        "**First restart the runtime!**\n",
        "Then run this cell to start the UI\n",
        "\n",
        "**Note:** I advise to use the gui for evaluation purposes. The evaluation works fine on colab but it is easier to handle over the gui. Colab is insisted to be used for fast calculation of the features and RDMS. \n"
      ]
    },
    {
      "cell_type": "code",
      "metadata": {
        "id": "hHP2XTVmU37K"
      },
      "source": [
        "#After installing everything run this cell - The Code should work now :)\n",
        "\n",
        "import sys\n",
        "%cd /content/Net2Brain/net2brain/\n",
        "sys.path.insert(0, \"/content/Net2Brain\")\n",
        "\n",
        "from toolbox_ui import main\n",
        "main()\n",
        "\n"
      ],
      "execution_count": null,
      "outputs": []
    },
    {
      "cell_type": "markdown",
      "metadata": {
        "id": "FfC71PsMVBPf"
      },
      "source": [
        "\n",
        "\n",
        "\n",
        "\n",
        "\n",
        "---\n",
        "\n",
        "---\n",
        "\n",
        "\n",
        "\n"
      ]
    },
    {
      "cell_type": "markdown",
      "metadata": {
        "id": "vGckgKx5VD7F"
      },
      "source": [
        "# **Addtional steps:**\n",
        "\n",
        "I recommend to download the RDMs only and delete the features again so the available space clears up. The cell below downloads all the genereated RDMs\n",
        "\n"
      ]
    },
    {
      "cell_type": "code",
      "metadata": {
        "id": "K0gCNif5VLVT"
      },
      "source": [
        "from google.colab import files\n",
        "\n",
        "!zip -r /content/rdms_from_colab.zip /content/Net2Brain/rdms/\n",
        "files.download(\"/content/rdms_from_colab.zip\")"
      ],
      "execution_count": null,
      "outputs": []
    },
    {
      "cell_type": "markdown",
      "metadata": {
        "id": "WBa-SjXdVNGR"
      },
      "source": [
        "\n",
        "\n",
        "---\n",
        "\n",
        "\n",
        "If you wish to delete the generated features to clear up space you can run the cell below\n",
        "\n",
        "**Only do that after RDMs have been generated!**"
      ]
    },
    {
      "cell_type": "code",
      "metadata": {
        "id": "j9xtHsxxVTW6"
      },
      "source": [
        "%cd /content/Net2Brain/\n",
        "!rm -rf feats"
      ],
      "execution_count": null,
      "outputs": []
    }
  ]
}