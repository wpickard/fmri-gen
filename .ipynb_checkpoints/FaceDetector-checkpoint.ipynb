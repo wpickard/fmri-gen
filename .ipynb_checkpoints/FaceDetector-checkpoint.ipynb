{
 "cells": [
  {
   "cell_type": "markdown",
   "id": "e7cb38b3-f319-44fc-8575-59bcf3276fbb",
   "metadata": {},
   "source": [
    "# Face Detector\n",
    "\n",
    "> ⚠️ **NOTE:** Use with `first-impressions` virtual environment"
   ]
  },
  {
   "cell_type": "code",
   "execution_count": null,
   "id": "0088d026-8663-4797-a13d-a54b666b3725",
   "metadata": {},
   "outputs": [],
   "source": [
    "from pathlib import Path\n",
    "import pandas as pd\n",
    "import re\n",
    "from PIL import Image\n",
    "import cv2\n",
    "import numpy as np\n",
    "cv2.__version__"
   ]
  },
  {
   "cell_type": "code",
   "execution_count": null,
   "id": "8ad4826c-4eb0-4a39-a557-9315ae0eac13",
   "metadata": {},
   "outputs": [],
   "source": []
  }
 ],
 "metadata": {
  "kernelspec": {
   "display_name": "python3 (conda-first-impressions)",
   "language": "python",
   "name": "conda-env-conda-first-impressions-py"
  },
  "language_info": {
   "name": ""
  }
 },
 "nbformat": 4,
 "nbformat_minor": 5
}
